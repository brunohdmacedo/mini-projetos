{
  "nbformat": 4,
  "nbformat_minor": 0,
  "metadata": {
    "colab": {
      "name": "Extração de dados Youtube Data API v3.ipynb",
      "provenance": [],
      "authorship_tag": "ABX9TyO57cS4btk0ZFcWtnodR/P2",
      "include_colab_link": true
    },
    "kernelspec": {
      "name": "python3",
      "display_name": "Python 3"
    }
  },
  "cells": [
    {
      "cell_type": "markdown",
      "metadata": {
        "id": "view-in-github",
        "colab_type": "text"
      },
      "source": [
        "<a href=\"https://colab.research.google.com/github/programacaodinamica/mini-projetos/blob/master/src/Extracao_de_dados_Youtube_Data_API_v3.ipynb\" target=\"_parent\"><img src=\"https://colab.research.google.com/assets/colab-badge.svg\" alt=\"Open In Colab\"/></a>"
      ]
    },
    {
      "cell_type": "code",
      "metadata": {
        "id": "EBli7M3qoTEH"
      },
      "source": [
        "from IPython.display import YouTubeVideo\n",
        "YouTubeVideo('olDCJ1w3FLM')"
      ],
      "execution_count": null,
      "outputs": []
    },
    {
      "cell_type": "code",
      "metadata": {
        "colab": {
          "base_uri": "https://localhost:8080/",
          "height": 694
        },
        "id": "HwQI1_hST2mN",
        "outputId": "f650e348-03c2-46a1-cb11-dd992753ba1f"
      },
      "source": [
        "!pip install --upgrade google-api-python-client"
      ],
      "execution_count": null,
      "outputs": [
        {
          "output_type": "stream",
          "text": [
            "Collecting google-api-python-client\n",
            "\u001b[?25l  Downloading https://files.pythonhosted.org/packages/83/fc/98045b8c5e0ba12929d423e9ff6b742951bb846707539b18f19b27c6ddc3/google_api_python_client-1.12.8-py2.py3-none-any.whl (61kB)\n",
            "\r\u001b[K     |█████▎                          | 10kB 11.4MB/s eta 0:00:01\r\u001b[K     |██████████▋                     | 20kB 13.1MB/s eta 0:00:01\r\u001b[K     |████████████████                | 30kB 9.8MB/s eta 0:00:01\r\u001b[K     |█████████████████████▎          | 40kB 8.7MB/s eta 0:00:01\r\u001b[K     |██████████████████████████▋     | 51kB 5.6MB/s eta 0:00:01\r\u001b[K     |████████████████████████████████| 61kB 6.3MB/s eta 0:00:01\r\u001b[K     |████████████████████████████████| 71kB 4.0MB/s \n",
            "\u001b[?25hRequirement already satisfied, skipping upgrade: httplib2<1dev,>=0.15.0 in /usr/local/lib/python3.6/dist-packages (from google-api-python-client) (0.17.4)\n",
            "Requirement already satisfied, skipping upgrade: google-auth-httplib2>=0.0.3 in /usr/local/lib/python3.6/dist-packages (from google-api-python-client) (0.0.4)\n",
            "Collecting google-api-core<2dev,>=1.21.0\n",
            "\u001b[?25l  Downloading https://files.pythonhosted.org/packages/c8/3f/f7faa8a96408167c03d6fe07e2bee9b383ec18a7a1117d32912eb0c1b78f/google_api_core-1.26.0-py2.py3-none-any.whl (92kB)\n",
            "\r\u001b[K     |███▌                            | 10kB 14.8MB/s eta 0:00:01\r\u001b[K     |███████                         | 20kB 8.5MB/s eta 0:00:01\r\u001b[K     |██████████▋                     | 30kB 8.1MB/s eta 0:00:01\r\u001b[K     |██████████████                  | 40kB 6.1MB/s eta 0:00:01\r\u001b[K     |█████████████████▋              | 51kB 6.6MB/s eta 0:00:01\r\u001b[K     |█████████████████████▏          | 61kB 6.6MB/s eta 0:00:01\r\u001b[K     |████████████████████████▊       | 71kB 6.7MB/s eta 0:00:01\r\u001b[K     |████████████████████████████▏   | 81kB 6.3MB/s eta 0:00:01\r\u001b[K     |███████████████████████████████▊| 92kB 6.4MB/s eta 0:00:01\r\u001b[K     |████████████████████████████████| 102kB 4.6MB/s \n",
            "\u001b[?25hRequirement already satisfied, skipping upgrade: six<2dev,>=1.13.0 in /usr/local/lib/python3.6/dist-packages (from google-api-python-client) (1.15.0)\n",
            "Requirement already satisfied, skipping upgrade: uritemplate<4dev,>=3.0.0 in /usr/local/lib/python3.6/dist-packages (from google-api-python-client) (3.0.1)\n",
            "Requirement already satisfied, skipping upgrade: google-auth>=1.16.0 in /usr/local/lib/python3.6/dist-packages (from google-api-python-client) (1.25.0)\n",
            "Requirement already satisfied, skipping upgrade: protobuf>=3.12.0 in /usr/local/lib/python3.6/dist-packages (from google-api-core<2dev,>=1.21.0->google-api-python-client) (3.12.4)\n",
            "Requirement already satisfied, skipping upgrade: requests<3.0.0dev,>=2.18.0 in /usr/local/lib/python3.6/dist-packages (from google-api-core<2dev,>=1.21.0->google-api-python-client) (2.23.0)\n",
            "Requirement already satisfied, skipping upgrade: setuptools>=40.3.0 in /usr/local/lib/python3.6/dist-packages (from google-api-core<2dev,>=1.21.0->google-api-python-client) (53.0.0)\n",
            "Requirement already satisfied, skipping upgrade: googleapis-common-protos<2.0dev,>=1.6.0 in /usr/local/lib/python3.6/dist-packages (from google-api-core<2dev,>=1.21.0->google-api-python-client) (1.52.0)\n",
            "Requirement already satisfied, skipping upgrade: pytz in /usr/local/lib/python3.6/dist-packages (from google-api-core<2dev,>=1.21.0->google-api-python-client) (2018.9)\n",
            "Requirement already satisfied, skipping upgrade: packaging>=14.3 in /usr/local/lib/python3.6/dist-packages (from google-api-core<2dev,>=1.21.0->google-api-python-client) (20.9)\n",
            "Requirement already satisfied, skipping upgrade: rsa<5,>=3.1.4; python_version >= \"3.6\" in /usr/local/lib/python3.6/dist-packages (from google-auth>=1.16.0->google-api-python-client) (4.7)\n",
            "Requirement already satisfied, skipping upgrade: cachetools<5.0,>=2.0.0 in /usr/local/lib/python3.6/dist-packages (from google-auth>=1.16.0->google-api-python-client) (4.2.1)\n",
            "Requirement already satisfied, skipping upgrade: pyasn1-modules>=0.2.1 in /usr/local/lib/python3.6/dist-packages (from google-auth>=1.16.0->google-api-python-client) (0.2.8)\n",
            "Requirement already satisfied, skipping upgrade: chardet<4,>=3.0.2 in /usr/local/lib/python3.6/dist-packages (from requests<3.0.0dev,>=2.18.0->google-api-core<2dev,>=1.21.0->google-api-python-client) (3.0.4)\n",
            "Requirement already satisfied, skipping upgrade: urllib3!=1.25.0,!=1.25.1,<1.26,>=1.21.1 in /usr/local/lib/python3.6/dist-packages (from requests<3.0.0dev,>=2.18.0->google-api-core<2dev,>=1.21.0->google-api-python-client) (1.24.3)\n",
            "Requirement already satisfied, skipping upgrade: certifi>=2017.4.17 in /usr/local/lib/python3.6/dist-packages (from requests<3.0.0dev,>=2.18.0->google-api-core<2dev,>=1.21.0->google-api-python-client) (2020.12.5)\n",
            "Requirement already satisfied, skipping upgrade: idna<3,>=2.5 in /usr/local/lib/python3.6/dist-packages (from requests<3.0.0dev,>=2.18.0->google-api-core<2dev,>=1.21.0->google-api-python-client) (2.10)\n",
            "Requirement already satisfied, skipping upgrade: pyparsing>=2.0.2 in /usr/local/lib/python3.6/dist-packages (from packaging>=14.3->google-api-core<2dev,>=1.21.0->google-api-python-client) (2.4.7)\n",
            "Requirement already satisfied, skipping upgrade: pyasn1>=0.1.3 in /usr/local/lib/python3.6/dist-packages (from rsa<5,>=3.1.4; python_version >= \"3.6\"->google-auth>=1.16.0->google-api-python-client) (0.4.8)\n",
            "Installing collected packages: google-api-core, google-api-python-client\n",
            "  Found existing installation: google-api-core 1.16.0\n",
            "    Uninstalling google-api-core-1.16.0:\n",
            "      Successfully uninstalled google-api-core-1.16.0\n",
            "  Found existing installation: google-api-python-client 1.7.12\n",
            "    Uninstalling google-api-python-client-1.7.12:\n",
            "      Successfully uninstalled google-api-python-client-1.7.12\n",
            "Successfully installed google-api-core-1.26.0 google-api-python-client-1.12.8\n"
          ],
          "name": "stdout"
        },
        {
          "output_type": "display_data",
          "data": {
            "application/vnd.colab-display-data+json": {
              "pip_warning": {
                "packages": [
                  "google"
                ]
              }
            }
          },
          "metadata": {
            "tags": []
          }
        }
      ]
    },
    {
      "cell_type": "code",
      "metadata": {
        "id": "3i5Qe7qKWems"
      },
      "source": [
        "from googleapiclient.discovery import build"
      ],
      "execution_count": null,
      "outputs": []
    },
    {
      "cell_type": "code",
      "metadata": {
        "id": "9ZTKjraAWynd"
      },
      "source": [
        "youTubeApiKey=\"insira-aqui-sua-chave-de-API\""
      ],
      "execution_count": null,
      "outputs": []
    },
    {
      "cell_type": "code",
      "metadata": {
        "id": "Uqjf95fVW-a6"
      },
      "source": [
        "youtube = build('youtube','v3', developerKey=youTubeApiKey)"
      ],
      "execution_count": null,
      "outputs": []
    },
    {
      "cell_type": "code",
      "metadata": {
        "id": "oHAnIV0XXRFI"
      },
      "source": [
        "# Extraindo videos de uma Playlist \n",
        "playlistId = 'PL5TJqBvpXQv6SSsEgQrNwpOLTupXPuiMQ' #Dicas de Pandas Playlist\n",
        "playlistName = 'Dicas de Pandas'\n",
        "nextPage_token = None"
      ],
      "execution_count": null,
      "outputs": []
    },
    {
      "cell_type": "code",
      "metadata": {
        "id": "d2x0HNxJXoKZ"
      },
      "source": [
        "playlist_videos = []\n",
        "\n",
        "while True:\n",
        "  res = youtube.playlistItems().list(part='snippet', playlistId = playlistId, maxResults=50, pageToken=nextPage_token).execute()\n",
        "  playlist_videos += res['items']\n",
        "  \n",
        "  nextPage_token = res.get('nestPageToken')\n",
        "\n",
        "  if nextPage_token is None:\n",
        "    break\n"
      ],
      "execution_count": null,
      "outputs": []
    },
    {
      "cell_type": "code",
      "metadata": {
        "colab": {
          "base_uri": "https://localhost:8080/"
        },
        "id": "PpHcqkjJaK_8",
        "outputId": "bd53f6a8-6a98-476f-8405-a504bc7c2cb8"
      },
      "source": [
        "playlist_videos "
      ],
      "execution_count": null,
      "outputs": [
        {
          "output_type": "execute_result",
          "data": {
            "text/plain": [
              "[{'etag': 'jWlQhc6xyhNF9UAARf5jZ2c6Aw4',\n",
              "  'id': 'UEw1VEpxQnZwWFF2NlNTc0VnUXJOd3BPTFR1cFhQdWlNUS4yODlGNEE0NkRGMEEzMEQy',\n",
              "  'kind': 'youtube#playlistItem',\n",
              "  'snippet': {'channelId': 'UC70mr11REaCqgKke7DPJoLg',\n",
              "   'channelTitle': 'Programação Dinâmica',\n",
              "   'description': 'Oi gente, nesse vídeo a Kizzy mostra como fazer conversão de tipos de colunas no Pandas e como você pode formatar uma coluna do tipo object (string) para o tipo numérico float.\\n\\nPS: Esse é o primeiro vídeo de dicas sobre Pandas. Estamos testando esse novo formato. Espero que gostem! \\n#DicaPandas #Python\\n\\n*Link para o repositório: https://github.com/programacaodinamica/dicas-pandas\\n\\n*Link para o conjunto de dados utilizado no vídeo: http://www.dados.gov.br/dataset/precos-de-medicamentos-governo\\n\\n*E-mail: contato@programacaodinamica.com.br\\n*Instagram: @dinamicaprogramacao @kizzy_terra @ hallpaz\\n*Twitter: @pgdinamica @kizzyterra @hallpaz\\n\\n* Curta a Programação Dinâmica no facebook: https://fb.com/programacaodinamica\\n*Nosso repositório no Github: https://github.com/programacaodinamica\\n* Confira o nosso Medium: https://medium.com/programacaodinamica\\n* Confira os artigos no Python Café: https://pythoncafe.com.br',\n",
              "   'playlistId': 'PL5TJqBvpXQv6SSsEgQrNwpOLTupXPuiMQ',\n",
              "   'position': 0,\n",
              "   'publishedAt': '2020-04-04T20:33:33Z',\n",
              "   'resourceId': {'kind': 'youtube#video', 'videoId': 'MVd1cs7TDgA'},\n",
              "   'thumbnails': {'default': {'height': 90,\n",
              "     'url': 'https://i.ytimg.com/vi/MVd1cs7TDgA/default.jpg',\n",
              "     'width': 120},\n",
              "    'high': {'height': 360,\n",
              "     'url': 'https://i.ytimg.com/vi/MVd1cs7TDgA/hqdefault.jpg',\n",
              "     'width': 480},\n",
              "    'maxres': {'height': 720,\n",
              "     'url': 'https://i.ytimg.com/vi/MVd1cs7TDgA/maxresdefault.jpg',\n",
              "     'width': 1280},\n",
              "    'medium': {'height': 180,\n",
              "     'url': 'https://i.ytimg.com/vi/MVd1cs7TDgA/mqdefault.jpg',\n",
              "     'width': 320},\n",
              "    'standard': {'height': 480,\n",
              "     'url': 'https://i.ytimg.com/vi/MVd1cs7TDgA/sddefault.jpg',\n",
              "     'width': 640}},\n",
              "   'title': 'CONVERTENDO uma coluna de um DataFrame do Pandas | Dica de Pandas #1',\n",
              "   'videoOwnerChannelId': 'UC70mr11REaCqgKke7DPJoLg',\n",
              "   'videoOwnerChannelTitle': 'Programação Dinâmica'}},\n",
              " {'etag': 'WtOG3_7okjo8R_394mUu1YdjK0M',\n",
              "  'id': 'UEw1VEpxQnZwWFF2NlNTc0VnUXJOd3BPTFR1cFhQdWlNUS4wMTcyMDhGQUE4NTIzM0Y5',\n",
              "  'kind': 'youtube#playlistItem',\n",
              "  'snippet': {'channelId': 'UC70mr11REaCqgKke7DPJoLg',\n",
              "   'channelTitle': 'Programação Dinâmica',\n",
              "   'description': 'Continuando a série de dicas do Pandas, a Kizzy respondeu mais uma dúvida enviada por comentário e mostrou como usar métodos pouco explorados do Pandas. Você sabia que é possível configurar a forma de display dos DataFrames Pandas com poucas linhas de código? :)\\nAssista o vídeo e saiba como!\\n#DicaPandas #Python\\n\\nLink citado no vídeo: https://pandas.pydata.org/pandas-docs/stable/user_guide/options.html\\n\\nAPOIE nosso trabalho: https://apoia.se/programacaodinamica\\n\\n*E-mail: contato@programacaodinamica.com.br\\n*Instagram: @dinamicaprogramacao @kizzy_terra @ hallpaz\\n*Twitter: @pgdinamica @kizzyterra @hallpaz\\n\\n* Curta a Programação Dinâmica no facebook: https://fb.com/programacaodinamica\\n*Nosso repositório noGithub: https://github.com/programacaodinamica\\n* Confira o nosso Medium: https://medium.com/programacaodinamica\\n* Confira os artigos no Python Café: https://pythoncafe.com.br',\n",
              "   'playlistId': 'PL5TJqBvpXQv6SSsEgQrNwpOLTupXPuiMQ',\n",
              "   'position': 1,\n",
              "   'publishedAt': '2020-04-17T01:44:14Z',\n",
              "   'resourceId': {'kind': 'youtube#video', 'videoId': 'nsH6H2gNKgg'},\n",
              "   'thumbnails': {'default': {'height': 90,\n",
              "     'url': 'https://i.ytimg.com/vi/nsH6H2gNKgg/default.jpg',\n",
              "     'width': 120},\n",
              "    'high': {'height': 360,\n",
              "     'url': 'https://i.ytimg.com/vi/nsH6H2gNKgg/hqdefault.jpg',\n",
              "     'width': 480},\n",
              "    'maxres': {'height': 720,\n",
              "     'url': 'https://i.ytimg.com/vi/nsH6H2gNKgg/maxresdefault.jpg',\n",
              "     'width': 1280},\n",
              "    'medium': {'height': 180,\n",
              "     'url': 'https://i.ytimg.com/vi/nsH6H2gNKgg/mqdefault.jpg',\n",
              "     'width': 320},\n",
              "    'standard': {'height': 480,\n",
              "     'url': 'https://i.ytimg.com/vi/nsH6H2gNKgg/sddefault.jpg',\n",
              "     'width': 640}},\n",
              "   'title': 'MODIFICANDO o tamanho das COLUNAS de um DataFrame | Dica de Pandas #2',\n",
              "   'videoOwnerChannelId': 'UC70mr11REaCqgKke7DPJoLg',\n",
              "   'videoOwnerChannelTitle': 'Programação Dinâmica'}},\n",
              " {'etag': 'chU_sD2O6oSuqKft_6-ZiWupRtE',\n",
              "  'id': 'UEw1VEpxQnZwWFF2NlNTc0VnUXJOd3BPTFR1cFhQdWlNUS41MjE1MkI0OTQ2QzJGNzNG',\n",
              "  'kind': 'youtube#playlistItem',\n",
              "  'snippet': {'channelId': 'UC70mr11REaCqgKke7DPJoLg',\n",
              "   'channelTitle': 'Programação Dinâmica',\n",
              "   'description': 'Mais um vídeo respondendo dúvidas sobre Pandas: nesse vídeo Kizzy mostra como utilizar um sort_values para ordenar o resultado do describe pela média (mean). Mas não para por aí, a discussão está interessante e vale a pena assistir :)\\n\\nSPOILER: O describe retorna uma DataFrame Pandas\\n\\n#DicaPandas #Python\\n\\nApoie o nosso trabalho e nos ajude a manter a qualidade da produção de conteúdo:\\nhttps://apoia.se/programacaodinamica\\n\\n*E-mail: contato@programacaodinamica.com.br\\n*Instagram: @pgdinamica @kizzy_terra @ hallpaz\\n*Twitter: @pgdinamica @kizzy_terra @hallpaz\\n\\n* Curta a Programação Dinâmica no facebook: https://fb.com/programacaodinamica\\n*Nosso repositório no Github: https://github.com/programacaodinamica\\n* Confira o nosso Medium: https://medium.com/programacaodinamica\\n* Confira os artigos no Python Café: https://pythoncafe.com.br',\n",
              "   'playlistId': 'PL5TJqBvpXQv6SSsEgQrNwpOLTupXPuiMQ',\n",
              "   'position': 2,\n",
              "   'publishedAt': '2020-04-25T21:40:02Z',\n",
              "   'resourceId': {'kind': 'youtube#video', 'videoId': 'eUc77KqyThc'},\n",
              "   'thumbnails': {'default': {'height': 90,\n",
              "     'url': 'https://i.ytimg.com/vi/eUc77KqyThc/default.jpg',\n",
              "     'width': 120},\n",
              "    'high': {'height': 360,\n",
              "     'url': 'https://i.ytimg.com/vi/eUc77KqyThc/hqdefault.jpg',\n",
              "     'width': 480},\n",
              "    'maxres': {'height': 720,\n",
              "     'url': 'https://i.ytimg.com/vi/eUc77KqyThc/maxresdefault.jpg',\n",
              "     'width': 1280},\n",
              "    'medium': {'height': 180,\n",
              "     'url': 'https://i.ytimg.com/vi/eUc77KqyThc/mqdefault.jpg',\n",
              "     'width': 320},\n",
              "    'standard': {'height': 480,\n",
              "     'url': 'https://i.ytimg.com/vi/eUc77KqyThc/sddefault.jpg',\n",
              "     'width': 640}},\n",
              "   'title': 'ORDENEI o resultado do DataFrame DESCRIBE | Dica de Pandas #03',\n",
              "   'videoOwnerChannelId': 'UC70mr11REaCqgKke7DPJoLg',\n",
              "   'videoOwnerChannelTitle': 'Programação Dinâmica'}},\n",
              " {'etag': 'J4_49bthef6tjEPxpPvLa2WanwE',\n",
              "  'id': 'UEw1VEpxQnZwWFF2NlNTc0VnUXJOd3BPTFR1cFhQdWlNUS4wOTA3OTZBNzVEMTUzOTMy',\n",
              "  'kind': 'youtube#playlistItem',\n",
              "  'snippet': {'channelId': 'UC70mr11REaCqgKke7DPJoLg',\n",
              "   'channelTitle': 'Programação Dinâmica',\n",
              "   'description': 'Nesse vídeo, a Kizzy discute um método pouco conhecido seguindo a sugestão de um inscrito do canal. Como sempre, essa contribuição para a série de dicas do pandas foi de alto nível e muito pertinente, rendendo, inclusive, discussões sobre tópicos mais avançados como lançamento de exceções, hard copy e etc.\\n\\nVem aprender sobre o módulo testing do Pandas e sobre o método assert_frame_equal.\\n\\nApoie o nosso trabalho e nos ajude a manter a qualidade da produção de conteúdo:\\nhttps://apoia.se/programacaodinamica\\n\\n*E-mail: contato@programacaodinamica.com.br\\n\\nNossas Mídias Sociais:\\n*Instagram: https://www.instagram.com/pgdinamica/\\nhttps://www.instagram.com/kizzy_terra \\nhttps://www.instagram.com/hallpaz\\n\\n*Twitter: https://twitter.com/pgdinamica \\nhttps://twitter.com/kizzy_terra \\nhttps://twitter.com/hallpaz\\n\\n*Linkedin: https://www.linkedin.com/company/programacaodinamica/\\nhttps://www.linkedin.com/in/kizzyterra/\\nhttps://www.linkedin.com/in/hallpaz/\\n\\n* Curta a Programação Dinâmica no facebook: https://fb.com/programacaodinamica\\n*Nosso repositório no Github: https://github.com/programacaodinamica\\n* Confira o nosso Medium: https://medium.com/programacaodinamica\\n* Confira os artigos no Python Café: https://pythoncafe.com.br',\n",
              "   'playlistId': 'PL5TJqBvpXQv6SSsEgQrNwpOLTupXPuiMQ',\n",
              "   'position': 3,\n",
              "   'publishedAt': '2020-05-02T04:04:58Z',\n",
              "   'resourceId': {'kind': 'youtube#video', 'videoId': 'a-g36QtGtOg'},\n",
              "   'thumbnails': {'default': {'height': 90,\n",
              "     'url': 'https://i.ytimg.com/vi/a-g36QtGtOg/default.jpg',\n",
              "     'width': 120},\n",
              "    'high': {'height': 360,\n",
              "     'url': 'https://i.ytimg.com/vi/a-g36QtGtOg/hqdefault.jpg',\n",
              "     'width': 480},\n",
              "    'maxres': {'height': 720,\n",
              "     'url': 'https://i.ytimg.com/vi/a-g36QtGtOg/maxresdefault.jpg',\n",
              "     'width': 1280},\n",
              "    'medium': {'height': 180,\n",
              "     'url': 'https://i.ytimg.com/vi/a-g36QtGtOg/mqdefault.jpg',\n",
              "     'width': 320},\n",
              "    'standard': {'height': 480,\n",
              "     'url': 'https://i.ytimg.com/vi/a-g36QtGtOg/sddefault.jpg',\n",
              "     'width': 640}},\n",
              "   'title': 'Descobri um método que VERIFICA se dois conjuntos de dados SÃO IGUAIS | DICA DE PANDAS #4',\n",
              "   'videoOwnerChannelId': 'UC70mr11REaCqgKke7DPJoLg',\n",
              "   'videoOwnerChannelTitle': 'Programação Dinâmica'}},\n",
              " {'etag': 'WhByQZ2gUb2xpwZqf9tiiAdQfrk',\n",
              "  'id': 'UEw1VEpxQnZwWFF2NlNTc0VnUXJOd3BPTFR1cFhQdWlNUS4xMkVGQjNCMUM1N0RFNEUx',\n",
              "  'kind': 'youtube#playlistItem',\n",
              "  'snippet': {'channelId': 'UC70mr11REaCqgKke7DPJoLg',\n",
              "   'channelTitle': 'Programação Dinâmica',\n",
              "   'description': 'Mais uma dica de Pandas \\U0001f929Nesse vídeo você vai aprender a estilizar dataframes do Pandas utilizando o atributo style e a classe Styler. Com isso, é possível fazer highlights mudar a cor do fundo e do texto e muito mais \\\\o/\\n\\n0:00 Apresentação\\n1:14 Conjunto de dados escolhido\\nLink: https://covid.saude.gov.br/\\n1:47 Documentação Estilos no Pandas\\nLink: https://pandas.pydata.org/pandas-docs/stable/user_guide/style.html\\n02:05 O que é CSS?\\nLink: https://pt.wikipedia.org/wiki/Cascading_Style_Sheets\\n02:30 Atributo style do DataFrame\\n02:53 Classe Styler Pandas\\nLink: https://pandas.pydata.org/pandas-docs/stable/reference/api/pandas.io.formats.style.Styler.html\\n03:23 Métodos para alterar estilo no Pandas(Styler)\\n04:44 Modificando Pandas options\\nLink: https://pandas.pydata.org/docs/user_guide/options.html\\n05:40 Utilizando o método highlight_max( )\\n06:30 Utilizando o método highlight_min( )\\n07:12 Utilizando o método background_gradient( ) com colormap\\nLink: https://matplotlib.org/3.2.1/tutorials/colors/colormaps.html\\n08:41 Utilizando CSS para alterar o DataFrame\\n09:20 Utilizando método set_table_styles para fazer hover\\n10:41 Conclusão\\n\\nAssista os outros vídeos da playlist de Dicas do Pandas: https://www.youtube.com/playlist?list=PL5TJqBvpXQv6SSsEgQrNwpOLTupXPuiMQ\\n\\nLivros recomendados de Data Science: https://amzn.to/2XZyxUr\\nLivros de Algoritmos e Estruturas de Dados: https://amzn.to/3d5wK4m\\nSetUp - Equipamentos: https://amzn.to/37Cg3N2\\n\\n*E-mail: contato@programacaodinamica.com.br\\n\\n*Instagram: https://www.instagram.com/pgdinamica/\\nhttps://www.instagram.com/kizzy_terra \\nhttps://www.instagram.com/hallpaz\\n\\n*Twitter: https://twitter.com/pgdinamica \\nhttps://twitter.com/kizzy_terra \\nhttps://twitter.com/hallpaz\\n\\n* Curta a Programação Dinâmica no facebook: https://fb.com/programacaodinamica\\n*Nosso repositório no Github: https://github.com/programacaodinamica\\n* Confira o nosso Medium: https://medium.com/programacaodinamica\\n* Confira os artigos no Python Café: https://pythoncafe.com.br',\n",
              "   'playlistId': 'PL5TJqBvpXQv6SSsEgQrNwpOLTupXPuiMQ',\n",
              "   'position': 4,\n",
              "   'publishedAt': '2020-05-16T05:43:21Z',\n",
              "   'resourceId': {'kind': 'youtube#video', 'videoId': '8Yi3T_CeA9E'},\n",
              "   'thumbnails': {'default': {'height': 90,\n",
              "     'url': 'https://i.ytimg.com/vi/8Yi3T_CeA9E/default.jpg',\n",
              "     'width': 120},\n",
              "    'high': {'height': 360,\n",
              "     'url': 'https://i.ytimg.com/vi/8Yi3T_CeA9E/hqdefault.jpg',\n",
              "     'width': 480},\n",
              "    'maxres': {'height': 720,\n",
              "     'url': 'https://i.ytimg.com/vi/8Yi3T_CeA9E/maxresdefault.jpg',\n",
              "     'width': 1280},\n",
              "    'medium': {'height': 180,\n",
              "     'url': 'https://i.ytimg.com/vi/8Yi3T_CeA9E/mqdefault.jpg',\n",
              "     'width': 320},\n",
              "    'standard': {'height': 480,\n",
              "     'url': 'https://i.ytimg.com/vi/8Yi3T_CeA9E/sddefault.jpg',\n",
              "     'width': 640}},\n",
              "   'title': 'MUDEI a COR de um DataFrame do Pandas  *ficou incrível!* | Dica de Pandas #05',\n",
              "   'videoOwnerChannelId': 'UC70mr11REaCqgKke7DPJoLg',\n",
              "   'videoOwnerChannelTitle': 'Programação Dinâmica'}},\n",
              " {'etag': 'H9cnIhHCH66m3wSezkn1AZ5UUbI',\n",
              "  'id': 'UEw1VEpxQnZwWFF2NlNTc0VnUXJOd3BPTFR1cFhQdWlNUS41MzJCQjBCNDIyRkJDN0VD',\n",
              "  'kind': 'youtube#playlistItem',\n",
              "  'snippet': {'channelId': 'UC70mr11REaCqgKke7DPJoLg',\n",
              "   'channelTitle': 'Programação Dinâmica',\n",
              "   'description': 'Mais uma dica de #Pandas com a Kizzy e muitas dicas valiosas. \\nNesse vídeo você vai aprender:\\n\\n0:00 Pandas #6 - Variáveis Categóricas\\n0:13 O que é uma variável categórica?\\n1:40 Como importar um conjunto de dados muito grande\\n03:40 Importando colunas selecionadas dos dados\\n04:20 dtype - category\\n04:50 Apagando dados ausentes do conjunto de dados\\n06:17 cat codes\\n07:24 cut( )\\n09:45 qcut( )\\n11:49 Considerações Finais\\n\\nFaça parte do nosso laboratório de experimentação de conteúdo: https://www.youtube.com/channel/UC70mr11REaCqgKke7DPJoLg/join\\n\\nCanal do Telegram para receber os vídeos: https://t.me/joinchat/AAAAAFaoNgZTMRvrghpPPA\\n\\nLivros recomendados de Data Science: https://amzn.to/2XZyxUr\\nLivros de Algoritmos e Estruturas de Dados: https://amzn.to/3d5wK4m\\nSetUp - Equipamentos: https://amzn.to/37Cg3N2\\n\\n*E-mail: contato@programacaodinamica.com.br\\n\\n*Instagram: https://www.instagram.com/pgdinamica/\\nhttps://www.instagram.com/kizzy_terra \\nhttps://www.instagram.com/hallpaz\\n\\n*Twitter: https://twitter.com/pgdinamica \\nhttps://twitter.com/kizzy_terra \\nhttps://twitter.com/hallpaz\\n\\n* Curta a Programação Dinâmica no facebook: https://fb.com/programacaodinamica\\n*Nosso repositório no Github: https://github.com/programacaodinamica\\n* Confira o nosso Medium: https://medium.com/programacaodinamica\\n* Confira os artigos no Python Café: https://pythoncafe.com.br',\n",
              "   'playlistId': 'PL5TJqBvpXQv6SSsEgQrNwpOLTupXPuiMQ',\n",
              "   'position': 5,\n",
              "   'publishedAt': '2020-05-30T14:49:12Z',\n",
              "   'resourceId': {'kind': 'youtube#video', 'videoId': 'Sp9oqlVBgJc'},\n",
              "   'thumbnails': {'default': {'height': 90,\n",
              "     'url': 'https://i.ytimg.com/vi/Sp9oqlVBgJc/default.jpg',\n",
              "     'width': 120},\n",
              "    'high': {'height': 360,\n",
              "     'url': 'https://i.ytimg.com/vi/Sp9oqlVBgJc/hqdefault.jpg',\n",
              "     'width': 480},\n",
              "    'maxres': {'height': 720,\n",
              "     'url': 'https://i.ytimg.com/vi/Sp9oqlVBgJc/maxresdefault.jpg',\n",
              "     'width': 1280},\n",
              "    'medium': {'height': 180,\n",
              "     'url': 'https://i.ytimg.com/vi/Sp9oqlVBgJc/mqdefault.jpg',\n",
              "     'width': 320},\n",
              "    'standard': {'height': 480,\n",
              "     'url': 'https://i.ytimg.com/vi/Sp9oqlVBgJc/sddefault.jpg',\n",
              "     'width': 640}},\n",
              "   'title': 'VARIÁVEIS CATEGÓRICAS no Pandas,, dataset GRANDE, dados AUSENTES, bins | Dica de Pandas #6',\n",
              "   'videoOwnerChannelId': 'UC70mr11REaCqgKke7DPJoLg',\n",
              "   'videoOwnerChannelTitle': 'Programação Dinâmica'}},\n",
              " {'etag': '_4YaHIFUXJs_Ucxz2DRIBd9jC34',\n",
              "  'id': 'UEw1VEpxQnZwWFF2NlNTc0VnUXJOd3BPTFR1cFhQdWlNUS5DQUNERDQ2NkIzRUQxNTY1',\n",
              "  'kind': 'youtube#playlistItem',\n",
              "  'snippet': {'channelId': 'UC70mr11REaCqgKke7DPJoLg',\n",
              "   'channelTitle': 'Programação Dinâmica',\n",
              "   'description': 'Nesse vídeo a Kizzy apresenta um pacote que facilita MUITO a vida de quem deseja fazer um um gráfico de corrida de barras em Python. O vídeo está INCRÍVEL, não perde tempo e vai conferir!\\n\\nDados Brasileiros - https://covid.saude.gov.br/\\n\\nOfficial Release of bar_chart_race\\nhttps://medium.com/dunder-data/bar-chart-race-python-package-official-release-78a420e182a2\\n\\nBar Chart Race- Documentation\\nhttps://www.dexplo.org/bar_chart_race/\\n\\n\\u200bCanal do Ted Petrou - @Dunder Data  \\n\\nFaça parte do nosso laboratório de experimentação de conteúdo: https://bit.ly/labpgdinamica\\n\\nLivros recomendados de Data Science: https://amzn.to/2XZyxUr\\nLivros de Algoritmos e Estruturas de Dados: https://amzn.to/3d5wK4m\\nSetUp - Equipamentos: https://amzn.to/37Cg3N2\\n\\nCanal do Telegram para receber os vídeos: https://t.me/joinchat/AAAAAFaoNgZTMRvrghpPPA\\n\\n*E-mail: contato@programacaodinamica.com.br\\n\\n*Instagram: https://www.instagram.com/pgdinamica/\\nhttps://www.instagram.com/kizzy_terra \\nhttps://www.instagram.com/hallpaz\\n\\n*Twitter: https://twitter.com/pgdinamica \\nhttps://twitter.com/kizzy_terra \\nhttps://twitter.com/hallpaz\\n\\n* Curta a Programação Dinâmica no facebook: https://fb.com/programacaodinamica\\n*Nosso repositório no Github: https://github.com/programacaodinamica\\n* Confira o nosso Medium: https://medium.com/programacaodinamica\\n* Confira os artigos no Python Café: https://pythoncafe.com.br',\n",
              "   'playlistId': 'PL5TJqBvpXQv6SSsEgQrNwpOLTupXPuiMQ',\n",
              "   'position': 6,\n",
              "   'publishedAt': '2020-06-13T17:05:00Z',\n",
              "   'resourceId': {'kind': 'youtube#video', 'videoId': 'rIwxjCnvdcY'},\n",
              "   'thumbnails': {'default': {'height': 90,\n",
              "     'url': 'https://i.ytimg.com/vi/rIwxjCnvdcY/default.jpg',\n",
              "     'width': 120},\n",
              "    'high': {'height': 360,\n",
              "     'url': 'https://i.ytimg.com/vi/rIwxjCnvdcY/hqdefault.jpg',\n",
              "     'width': 480},\n",
              "    'maxres': {'height': 720,\n",
              "     'url': 'https://i.ytimg.com/vi/rIwxjCnvdcY/maxresdefault.jpg',\n",
              "     'width': 1280},\n",
              "    'medium': {'height': 180,\n",
              "     'url': 'https://i.ytimg.com/vi/rIwxjCnvdcY/mqdefault.jpg',\n",
              "     'width': 320},\n",
              "    'standard': {'height': 480,\n",
              "     'url': 'https://i.ytimg.com/vi/rIwxjCnvdcY/sddefault.jpg',\n",
              "     'width': 640}},\n",
              "   'title': 'Corrida de CASOS de COVID no Brasil | Gráfico de Corrida de Barras (Bar Chart Race) em Python',\n",
              "   'videoOwnerChannelId': 'UC70mr11REaCqgKke7DPJoLg',\n",
              "   'videoOwnerChannelTitle': 'Programação Dinâmica'}},\n",
              " {'etag': 'Exj-7gagNZjdogTF86Fg6f1zit8',\n",
              "  'id': 'UEw1VEpxQnZwWFF2NlNTc0VnUXJOd3BPTFR1cFhQdWlNUS45NDk1REZENzhEMzU5MDQz',\n",
              "  'kind': 'youtube#playlistItem',\n",
              "  'snippet': {'channelId': 'UC70mr11REaCqgKke7DPJoLg',\n",
              "   'channelTitle': 'Programação Dinâmica',\n",
              "   'description': 'Você sabia que é possível ler um conjunto de dados comprimido? Que tal lidar com 600mb ao invés de de 3gb? Descubra no vídeo de hoje com a Kizzy!\\n\\nFaça parte do nosso laboratório de experimentação de conteúdo: https://bit.ly/labpgdinamica\\n\\nLivros recomendados de Data Science: https://amzn.to/2XZyxUr\\nLivros de Algoritmos e Estruturas de Dados: https://amzn.to/3d5wK4m\\nSetUp - Equipamentos: https://amzn.to/37Cg3N2\\n\\nCanal do Telegram para receber os vídeos: https://t.me/joinchat/AAAAAFaoNgZTMRvrghpPPA\\n\\n*E-mail: contato@programacaodinamica.com.br\\n\\n*Instagram: https://www.instagram.com/pgdinamica/\\nhttps://www.instagram.com/kizzy_terra \\nhttps://www.instagram.com/hallpaz\\n\\n*Twitter: https://twitter.com/pgdinamica \\nhttps://twitter.com/kizzy_terra \\nhttps://twitter.com/hallpaz\\n\\n* Curta a Programação Dinâmica no facebook: https://fb.com/programacaodinamica\\n*Nosso repositório no Github: https://github.com/programacaodinamica\\n* Confira o nosso Medium: https://medium.com/programacaodinamica\\n* Confira os artigos no Python Café: https://pythoncafe.com.br',\n",
              "   'playlistId': 'PL5TJqBvpXQv6SSsEgQrNwpOLTupXPuiMQ',\n",
              "   'position': 7,\n",
              "   'publishedAt': '2020-06-27T07:14:22Z',\n",
              "   'resourceId': {'kind': 'youtube#video', 'videoId': '0yyiV4cyYww'},\n",
              "   'thumbnails': {'default': {'height': 90,\n",
              "     'url': 'https://i.ytimg.com/vi/0yyiV4cyYww/default.jpg',\n",
              "     'width': 120},\n",
              "    'high': {'height': 360,\n",
              "     'url': 'https://i.ytimg.com/vi/0yyiV4cyYww/hqdefault.jpg',\n",
              "     'width': 480},\n",
              "    'maxres': {'height': 720,\n",
              "     'url': 'https://i.ytimg.com/vi/0yyiV4cyYww/maxresdefault.jpg',\n",
              "     'width': 1280},\n",
              "    'medium': {'height': 180,\n",
              "     'url': 'https://i.ytimg.com/vi/0yyiV4cyYww/mqdefault.jpg',\n",
              "     'width': 320},\n",
              "    'standard': {'height': 480,\n",
              "     'url': 'https://i.ytimg.com/vi/0yyiV4cyYww/sddefault.jpg',\n",
              "     'width': 640}},\n",
              "   'title': 'LENDO arquivo Zip SEM descompactar  + Pandas Backend para Gráficos Interativos | Dica de Pandas #8',\n",
              "   'videoOwnerChannelId': 'UC70mr11REaCqgKke7DPJoLg',\n",
              "   'videoOwnerChannelTitle': 'Programação Dinâmica'}},\n",
              " {'etag': '1vLfVwJ1B1hDUrMa-CbJ7dNKEwM',\n",
              "  'id': 'UEw1VEpxQnZwWFF2NlNTc0VnUXJOd3BPTFR1cFhQdWlNUS40NzZCMERDMjVEN0RFRThB',\n",
              "  'kind': 'youtube#playlistItem',\n",
              "  'snippet': {'channelId': 'UC70mr11REaCqgKke7DPJoLg',\n",
              "   'channelTitle': 'Programação Dinâmica',\n",
              "   'description': 'As barreiras para abrir os dados do ENEM agora estão um pouco menores, para quem não consegue abrir os microdados porque eles são muito grandes, disponibilizamos os dados separados por estados brasileiros para facilitar as análises com fragmentos e evitar a necessidade de analisar o conjunto de dados completo todas as vezes. Você pode, por exemplo, fazer análises separadas e eventualmente, juntar os resultados obtidos. E para aprender como fizemos para particionar os dados, assista ao vídeo :)\\n\\n0:00 Introdução\\n02:39 Abrindo os microdados do ENEM em formato zip utilizando zipfile\\n03:37 Calculando tempo de execução de um comando on Jupyter Notebook com %time\\n05:54 Filtrando linhas do DataFrame Pandas\\n07:49 Filtrando e particionando os microdados do ENEM por Estado Brasileiro\\n\\nLink para os microdados do ENEM 2019 por Estados: https://archive.org/details/microdados_enem_2019_por_estados\\nLink para os microdados do ENEM 2019 original: http://inep.gov.br/microdados\\n\\nLink para o notebook: https://github.com/programacaodinamica/dicas-pandas/blob/master/Filtrando%20e%20Exportando%20para%20CSV%20os%20dados%20do%20ENEM%20por%20Estado%20Brasileiro.ipynb\\n\\nFaça parte do nosso laboratório de experimentação de conteúdo: https://bit.ly/labpgdinamica\\n\\nLivros recomendados de Data Science: https://amzn.to/2XZyxUr\\nLivros de Algoritmos e Estruturas de Dados: https://amzn.to/3d5wK4m\\nSetUp - Equipamentos: https://amzn.to/37Cg3N2\\n\\nCanal do Telegram para receber os vídeos: https://t.me/joinchat/AAAAAFaoNgZTMRvrghpPPA\\n\\n*E-mail: contato@programacaodinamica.com.br\\n\\n*Instagram: https://www.instagram.com/pgdinamica/\\nhttps://www.instagram.com/kizzy_terra \\nhttps://www.instagram.com/hallpaz\\n\\n*Twitter: https://twitter.com/pgdinamica \\nhttps://twitter.com/kizzy_terra \\nhttps://twitter.com/hallpaz\\n\\n* Curta a Programação Dinâmica no facebook: https://fb.com/programacaodinamica\\n*Nosso repositório no Github: https://github.com/programacaodinamica\\n* Confira o nosso Medium: https://medium.com/programacaodinamica\\n* Confira os artigos no Python Café: https://pythoncafe.com.br',\n",
              "   'playlistId': 'PL5TJqBvpXQv6SSsEgQrNwpOLTupXPuiMQ',\n",
              "   'position': 8,\n",
              "   'publishedAt': '2020-07-25T04:26:05Z',\n",
              "   'resourceId': {'kind': 'youtube#video', 'videoId': 'Ub5-IMTgeRI'},\n",
              "   'thumbnails': {'default': {'height': 90,\n",
              "     'url': 'https://i.ytimg.com/vi/Ub5-IMTgeRI/default.jpg',\n",
              "     'width': 120},\n",
              "    'high': {'height': 360,\n",
              "     'url': 'https://i.ytimg.com/vi/Ub5-IMTgeRI/hqdefault.jpg',\n",
              "     'width': 480},\n",
              "    'maxres': {'height': 720,\n",
              "     'url': 'https://i.ytimg.com/vi/Ub5-IMTgeRI/maxresdefault.jpg',\n",
              "     'width': 1280},\n",
              "    'medium': {'height': 180,\n",
              "     'url': 'https://i.ytimg.com/vi/Ub5-IMTgeRI/mqdefault.jpg',\n",
              "     'width': 320},\n",
              "    'standard': {'height': 480,\n",
              "     'url': 'https://i.ytimg.com/vi/Ub5-IMTgeRI/sddefault.jpg',\n",
              "     'width': 640}},\n",
              "   'title': 'Particionando DADOS em arquivos CSV menores + Tempo de Execução no Jupyter Notebook | Dica Pandas #9',\n",
              "   'videoOwnerChannelId': 'UC70mr11REaCqgKke7DPJoLg',\n",
              "   'videoOwnerChannelTitle': 'Programação Dinâmica'}},\n",
              " {'etag': 'PiJ9TjExlchmHNFrzaQx8_d8xaA',\n",
              "  'id': 'UEw1VEpxQnZwWFF2NlNTc0VnUXJOd3BPTFR1cFhQdWlNUS5EMEEwRUY5M0RDRTU3NDJC',\n",
              "  'kind': 'youtube#playlistItem',\n",
              "  'snippet': {'channelId': 'UC70mr11REaCqgKke7DPJoLg',\n",
              "   'channelTitle': 'Programação Dinâmica',\n",
              "   'description': 'Neste vídeo, Kizzy mostra como você pode utilizar o pacote Cute Charts em Python para plotar gráficos bonitos com aparência de um desenho feito à mão \\U0001f929\\n\\nLink: https://github.com/cutecharts/cutecharts.py\\n\\nLink para o notebook utilizado: https://github.com/programacaodinamica/dicas-pandas/blob/master/Gr%C3%A1ficos%20fofos%20em%20Python.ipynb\\n\\nLink para os microdados do ENEM 2019 por Estados: https://archive.org/details/microdados_enem_2019_por_estados\\nLink para os microdados do ENEM 2019 original: http://inep.gov.br/microdados\\n\\nFaça parte do nosso laboratório de experimentação de conteúdo: https://youtube.com/programacaodinamica\\n– Tenha acesso ao nosso curso de Visualização de Dados como membro do nível LAB++\\n\\nLivros recomendados de Data Science: https://amzn.to/2XZyxUr\\nLivros de Algoritmos e Estruturas de Dados: https://amzn.to/3d5wK4m\\nSetUp - Equipamentos: https://amzn.to/37Cg3N2\\n\\nCanal do Telegram para receber os vídeos: https://t.me/joinchat/AAAAAFaoNgZTMRvrghpPPA\\n\\n*E-mail: contato@programacaodinamica.com.br\\n\\n*Instagram: https://www.instagram.com/pgdinamica/\\nhttps://www.instagram.com/kizzy_terra \\nhttps://www.instagram.com/hallpaz\\n\\n*Twitter: https://twitter.com/pgdinamica \\nhttps://twitter.com/kizzy_terra \\nhttps://twitter.com/hallpaz\\n\\n* Curta a Programação Dinâmica no facebook: https://fb.com/programacaodinamica\\n* Nosso repositório no Github: https://github.com/programacaodinamica\\n* Confira o nosso Blog: https://blog.programacaodinamica.com.br\\n* Confira o nosso Medium: https://medium.com/programacaodinamica\\n* Confira os artigos no Python Café: https://pythoncafe.com.br',\n",
              "   'playlistId': 'PL5TJqBvpXQv6SSsEgQrNwpOLTupXPuiMQ',\n",
              "   'position': 9,\n",
              "   'publishedAt': '2020-08-08T13:31:05Z',\n",
              "   'resourceId': {'kind': 'youtube#video', 'videoId': '7oMUHy4GGn8'},\n",
              "   'thumbnails': {'default': {'height': 90,\n",
              "     'url': 'https://i.ytimg.com/vi/7oMUHy4GGn8/default.jpg',\n",
              "     'width': 120},\n",
              "    'high': {'height': 360,\n",
              "     'url': 'https://i.ytimg.com/vi/7oMUHy4GGn8/hqdefault.jpg',\n",
              "     'width': 480},\n",
              "    'maxres': {'height': 720,\n",
              "     'url': 'https://i.ytimg.com/vi/7oMUHy4GGn8/maxresdefault.jpg',\n",
              "     'width': 1280},\n",
              "    'medium': {'height': 180,\n",
              "     'url': 'https://i.ytimg.com/vi/7oMUHy4GGn8/mqdefault.jpg',\n",
              "     'width': 320},\n",
              "    'standard': {'height': 480,\n",
              "     'url': 'https://i.ytimg.com/vi/7oMUHy4GGn8/sddefault.jpg',\n",
              "     'width': 640}},\n",
              "   'title': 'Gráficos Bonitos com Cute Charts em Python 😊',\n",
              "   'videoOwnerChannelId': 'UC70mr11REaCqgKke7DPJoLg',\n",
              "   'videoOwnerChannelTitle': 'Programação Dinâmica'}},\n",
              " {'etag': 'mzpjU-7gMFfvCCjysMKU3LERL-c',\n",
              "  'id': 'UEw1VEpxQnZwWFF2NlNTc0VnUXJOd3BPTFR1cFhQdWlNUS45ODRDNTg0QjA4NkFBNkQy',\n",
              "  'kind': 'youtube#playlistItem',\n",
              "  'snippet': {'channelId': 'UC70mr11REaCqgKke7DPJoLg',\n",
              "   'channelTitle': 'Programação Dinâmica',\n",
              "   'description': 'Mais um Dica de Pandas com a Kizzy, mas esse é um pouco diferente. \\nUtilizamos o melhor amigo dos devs: o StackOverflow. \\n\\nO StackOverflow é um site de perguntas e respostas para profissionais e entusiastas na área de programação de computadores.\\n\\nÉ muito comum, principalmente entre iniciantes, copiar e  colar códigos inteiros desse site sem entender o que o código faz. Essa é uma péssima maneira de utilizar a ferramenta, pois é apenas uma maneira de se enganar, de achar que você está se desenvolvendo enquanto, na verdade, não está aprendendo nada.\\n\\nPara finalizar, ainda apresentamos nesse vídeo algumas das perguntas mais populares sobre Pandas.\\n\\nVamos bater um papo sobre esse belo site e ainda aproveitar pra aprender e revisar umas dicas de pandas? \\n\\n0:00 O que é StackOverflow?\\n1:49 Dicas de como melhor utilizá-lo para aprender\\n2:07 Pare de copiar sem entender!!\\n3:20 Perguntas de Pandas mais populares no StackOverflow\\nhttps://stackoverflow.com/questions/tagged/pandas\\n10:25 Vagas de emprego no StackOverflow\\n\\n\\nLivros recomendados de Data Science: https://amzn.to/2XZyxUr\\nLivros de Algoritmos e Estruturas de Dados: https://amzn.to/3d5wK4m\\nSetUp - Equipamentos: https://amzn.to/37Cg3N2\\n\\nCanal do Telegram para receber os vídeos: https://t.me/joinchat/AAAAAFaoNgZTMRvrghpPPA\\n\\n*E-mails:\\n– Propostas comerciais: comercial@pgdinamica.com\\n– Demais assuntos: contato@programacaodinamica.com.br\\n\\n*Confira mais conteúdo em nosso blog: https://blog.programacaodinamica.com.br\\n\\n*Instagram: https://www.instagram.com/pgdinamica/\\nhttps://www.instagram.com/kizzy_terra \\nhttps://www.instagram.com/hallpaz\\n\\n*Twitter: https://twitter.com/pgdinamica \\nhttps://twitter.com/kizzy_terra \\nhttps://twitter.com/hallpaz\\n\\n* Curta a Programação Dinâmica no facebook: https://fb.com/programacaodinamica\\n* Nosso repositório no Github: https://github.com/programacaodinamica\\n* Confira o nosso Medium: https://medium.com/programacaodinamica\\n* Confira os artigos no Python Café: https://pythoncafe.com.br',\n",
              "   'playlistId': 'PL5TJqBvpXQv6SSsEgQrNwpOLTupXPuiMQ',\n",
              "   'position': 10,\n",
              "   'publishedAt': '2020-09-05T13:56:42Z',\n",
              "   'resourceId': {'kind': 'youtube#video', 'videoId': 'Whm8S0O31Xg'},\n",
              "   'thumbnails': {'default': {'height': 90,\n",
              "     'url': 'https://i.ytimg.com/vi/Whm8S0O31Xg/default.jpg',\n",
              "     'width': 120},\n",
              "    'high': {'height': 360,\n",
              "     'url': 'https://i.ytimg.com/vi/Whm8S0O31Xg/hqdefault.jpg',\n",
              "     'width': 480},\n",
              "    'maxres': {'height': 720,\n",
              "     'url': 'https://i.ytimg.com/vi/Whm8S0O31Xg/maxresdefault.jpg',\n",
              "     'width': 1280},\n",
              "    'medium': {'height': 180,\n",
              "     'url': 'https://i.ytimg.com/vi/Whm8S0O31Xg/mqdefault.jpg',\n",
              "     'width': 320},\n",
              "    'standard': {'height': 480,\n",
              "     'url': 'https://i.ytimg.com/vi/Whm8S0O31Xg/sddefault.jpg',\n",
              "     'width': 640}},\n",
              "   'title': 'As perguntas de Pandas mais populares no StackOverflow + Pare de copiar código! | Dica de Pandas #10',\n",
              "   'videoOwnerChannelId': 'UC70mr11REaCqgKke7DPJoLg',\n",
              "   'videoOwnerChannelTitle': 'Programação Dinâmica'}},\n",
              " {'etag': 'IVZBY8nHwzAeukafH9PTURYz0os',\n",
              "  'id': 'UEw1VEpxQnZwWFF2NlNTc0VnUXJOd3BPTFR1cFhQdWlNUS4zMDg5MkQ5MEVDMEM1NTg2',\n",
              "  'kind': 'youtube#playlistItem',\n",
              "  'snippet': {'channelId': 'UC70mr11REaCqgKke7DPJoLg',\n",
              "   'channelTitle': 'Programação Dinâmica',\n",
              "   'description': 'As dicas de pandas estão de volta! Nesse vídeo, a Kizzy apresenta uma classe do Pandas que pode ser utilizada para criar colunas de tipo categórico e, ainda, atribuir uma ordenação às categorias, se necessário. \\n\\nUma variável categórica é uma variável que pode assumir apenas um número limitado, e geralmente fixo, de valores possíveis, atribuindo cada indivíduo ou outra unidade de observação a um determinado grupo ou categoria nominal com base em alguma propriedade qualitativa.\\n\\nA aplicação dessa classe foi utilizada no contexto da solução de um problema prático: ordenar os espectros políticos brasileiros para gerar mapas. \\n\\nLinks úteis:\\n📌 Pandas CategoricalDtype - https://pandas.pydata.org/pandas-docs/stable/reference/api/pandas.CategoricalDtype.html?highlight=categoricaldtype#pandas.CategoricalDtype\\n📌 https://pandas.pydata.org/pandas-docs/stable/user_guide/categorical.html?highlight=categorical\\n📌 Código - https://github.com/programacaodinamica/dicas-pandas/blob/master/Pandas_Categorical_Dtype_Dica_de_Pandas_11.ipynb\\n📌 Link com ShapeFile do Brasil por Municipios: https://drive.google.com/drive/folders/1SYF_aY6c2p8vQaxJdF_7g11R7tMbdxX0?usp=sharing\\n\\n🔥 Faça parte do nosso Laboratório de Conteúdo gratuito: https://bit.ly/pgsparkle\\n(baixe o app e entre na comunidade Programação Mais Dinâmica)\\n\\n📚 Livros recomendados de Data Science: https://amzn.to/2XZyxUr\\n📚 Livros de Algoritmos e Estruturas de Dados: https://amzn.to/3d5wK4m\\nSetUp - Equipamentos: https://amzn.to/37Cg3N2\\n\\n\\U0001f7e6 Canal do Telegram para receber os vídeos: https://t.me/joinchat/AAAAAFaoNgZTMRvrghpPPA\\n\\n✉️ E-mails:\\n– Propostas comerciais: comercial@pgdinamica.com\\n– Demais assuntos: contato@programacaodinamica.com.br\\n\\n👩🏾\\u200d💻👨🏾\\u200d💻 Confira mais conteúdo em nosso blog: https://blog.programacaodinamica.com.br\\n\\n📸 Nos siga no Instagram: https://instagram.com/pgdinamica \\n📸 @kizzy_terra  @hallpaz\\n\\n🐦 Nos siga no Twitter: https://twitter.com/pgdinamica \\n🐦 @kizzy_terra @hallpaz\\n\\n* Curta a Programação Dinâmica no facebook: https://fb.com/pgdinamica\\n* Nosso repositório no Github: https://github.com/programacaodinamica\\n* Confira o nosso Medium: https://medium.com/programacaodinamica\\n* Confira os artigos no Python Café: https://pythoncafe.com.br',\n",
              "   'playlistId': 'PL5TJqBvpXQv6SSsEgQrNwpOLTupXPuiMQ',\n",
              "   'position': 11,\n",
              "   'publishedAt': '2020-12-12T04:36:02Z',\n",
              "   'resourceId': {'kind': 'youtube#video', 'videoId': 'LlXBiniaF7E'},\n",
              "   'thumbnails': {'default': {'height': 90,\n",
              "     'url': 'https://i.ytimg.com/vi/LlXBiniaF7E/default.jpg',\n",
              "     'width': 120},\n",
              "    'high': {'height': 360,\n",
              "     'url': 'https://i.ytimg.com/vi/LlXBiniaF7E/hqdefault.jpg',\n",
              "     'width': 480},\n",
              "    'maxres': {'height': 720,\n",
              "     'url': 'https://i.ytimg.com/vi/LlXBiniaF7E/maxresdefault.jpg',\n",
              "     'width': 1280},\n",
              "    'medium': {'height': 180,\n",
              "     'url': 'https://i.ytimg.com/vi/LlXBiniaF7E/mqdefault.jpg',\n",
              "     'width': 320},\n",
              "    'standard': {'height': 480,\n",
              "     'url': 'https://i.ytimg.com/vi/LlXBiniaF7E/sddefault.jpg',\n",
              "     'width': 640}},\n",
              "   'title': 'Ordenando VÁRIAVEIS CATEGÓRICAS no Pandas - CategoricalDtype | Dica de Pandas #11',\n",
              "   'videoOwnerChannelId': 'UC70mr11REaCqgKke7DPJoLg',\n",
              "   'videoOwnerChannelTitle': 'Programação Dinâmica'}}]"
            ]
          },
          "metadata": {
            "tags": []
          },
          "execution_count": 17
        }
      ]
    },
    {
      "cell_type": "code",
      "metadata": {
        "colab": {
          "base_uri": "https://localhost:8080/"
        },
        "id": "RQYPRyPDaVbU",
        "outputId": "f377bcff-5085-46f3-ecd5-187f555e00b0"
      },
      "source": [
        "print(\"Número total de vídeos na Playlist \", len(playlist_videos))"
      ],
      "execution_count": null,
      "outputs": [
        {
          "output_type": "stream",
          "text": [
            "Número total de vídeos na Playlist  12\n"
          ],
          "name": "stdout"
        }
      ]
    },
    {
      "cell_type": "code",
      "metadata": {
        "id": "mJc2-wJ8bwNe"
      },
      "source": [
        "videos_ids = list(map(lambda x: x['snippet']['resourceId']['videoId'], playlist_videos))"
      ],
      "execution_count": null,
      "outputs": []
    },
    {
      "cell_type": "code",
      "metadata": {
        "colab": {
          "base_uri": "https://localhost:8080/"
        },
        "id": "TY9K5Ni1cCbi",
        "outputId": "c4b9bb50-4f23-4742-a93c-787d6c25d27c"
      },
      "source": [
        "videos_ids"
      ],
      "execution_count": null,
      "outputs": [
        {
          "output_type": "execute_result",
          "data": {
            "text/plain": [
              "['MVd1cs7TDgA',\n",
              " 'nsH6H2gNKgg',\n",
              " 'eUc77KqyThc',\n",
              " 'a-g36QtGtOg',\n",
              " '8Yi3T_CeA9E',\n",
              " 'Sp9oqlVBgJc',\n",
              " 'rIwxjCnvdcY',\n",
              " '0yyiV4cyYww',\n",
              " 'Ub5-IMTgeRI',\n",
              " '7oMUHy4GGn8',\n",
              " 'Whm8S0O31Xg',\n",
              " 'LlXBiniaF7E']"
            ]
          },
          "metadata": {
            "tags": []
          },
          "execution_count": 23
        }
      ]
    },
    {
      "cell_type": "code",
      "metadata": {
        "id": "VFRv2h-gcZzf"
      },
      "source": [
        "stats = []\n",
        "\n",
        "for video_id in videos_ids:\n",
        "  res = youtube.videos().list(part='statistics', id=video_id).execute()\n",
        "  stats += res['items']"
      ],
      "execution_count": null,
      "outputs": []
    },
    {
      "cell_type": "code",
      "metadata": {
        "colab": {
          "base_uri": "https://localhost:8080/"
        },
        "id": "z1yDWmXbdIud",
        "outputId": "e090d59e-e423-422f-b8e4-f1b8c6a19176"
      },
      "source": [
        "stats"
      ],
      "execution_count": null,
      "outputs": [
        {
          "output_type": "execute_result",
          "data": {
            "text/plain": [
              "[{'etag': 'LrlU4OfPOkJXxNlQ2aQv7PPSegE',\n",
              "  'id': 'MVd1cs7TDgA',\n",
              "  'kind': 'youtube#video',\n",
              "  'statistics': {'commentCount': '138',\n",
              "   'dislikeCount': '33',\n",
              "   'favoriteCount': '0',\n",
              "   'likeCount': '801',\n",
              "   'viewCount': '13436'}},\n",
              " {'etag': 'aBEdgypWJyQOGIEwJKYs6218oj4',\n",
              "  'id': 'nsH6H2gNKgg',\n",
              "  'kind': 'youtube#video',\n",
              "  'statistics': {'commentCount': '55',\n",
              "   'dislikeCount': '244',\n",
              "   'favoriteCount': '0',\n",
              "   'likeCount': '808',\n",
              "   'viewCount': '21522'}},\n",
              " {'etag': '5gzeGthfag0m7Na6Z9rq4t96pns',\n",
              "  'id': 'eUc77KqyThc',\n",
              "  'kind': 'youtube#video',\n",
              "  'statistics': {'commentCount': '36',\n",
              "   'dislikeCount': '4',\n",
              "   'favoriteCount': '0',\n",
              "   'likeCount': '247',\n",
              "   'viewCount': '1444'}},\n",
              " {'etag': 'aK8bxxr8u2ABsB5fO1tMmBM9Hn4',\n",
              "  'id': 'a-g36QtGtOg',\n",
              "  'kind': 'youtube#video',\n",
              "  'statistics': {'commentCount': '21',\n",
              "   'dislikeCount': '0',\n",
              "   'favoriteCount': '0',\n",
              "   'likeCount': '271',\n",
              "   'viewCount': '1508'}},\n",
              " {'etag': 'jxdMEoxkcUSJqSS-c5q8sqKBuTo',\n",
              "  'id': '8Yi3T_CeA9E',\n",
              "  'kind': 'youtube#video',\n",
              "  'statistics': {'commentCount': '59',\n",
              "   'dislikeCount': '1',\n",
              "   'favoriteCount': '0',\n",
              "   'likeCount': '370',\n",
              "   'viewCount': '2245'}},\n",
              " {'etag': 'xBqcoEAEcIgcdP6VxrRSfYI4ar4',\n",
              "  'id': 'Sp9oqlVBgJc',\n",
              "  'kind': 'youtube#video',\n",
              "  'statistics': {'commentCount': '60',\n",
              "   'dislikeCount': '1',\n",
              "   'favoriteCount': '0',\n",
              "   'likeCount': '327',\n",
              "   'viewCount': '2351'}},\n",
              " {'etag': '5yOJUvJDenRA2a8ViywSanHtw1Q',\n",
              "  'id': 'rIwxjCnvdcY',\n",
              "  'kind': 'youtube#video',\n",
              "  'statistics': {'commentCount': '116',\n",
              "   'dislikeCount': '1',\n",
              "   'favoriteCount': '0',\n",
              "   'likeCount': '589',\n",
              "   'viewCount': '3787'}},\n",
              " {'etag': 'SbgQUwnD7Ryk6hXOtVeI24YSeDE',\n",
              "  'id': '0yyiV4cyYww',\n",
              "  'kind': 'youtube#video',\n",
              "  'statistics': {'commentCount': '62',\n",
              "   'dislikeCount': '1',\n",
              "   'favoriteCount': '0',\n",
              "   'likeCount': '493',\n",
              "   'viewCount': '3234'}},\n",
              " {'etag': 'LpHuVptKvzf7V3FpD6ZOM4Kigtc',\n",
              "  'id': 'Ub5-IMTgeRI',\n",
              "  'kind': 'youtube#video',\n",
              "  'statistics': {'commentCount': '51',\n",
              "   'dislikeCount': '1',\n",
              "   'favoriteCount': '0',\n",
              "   'likeCount': '292',\n",
              "   'viewCount': '1921'}},\n",
              " {'etag': '42QRsMRMSJMy1fLeKCATvWaaxR4',\n",
              "  'id': '7oMUHy4GGn8',\n",
              "  'kind': 'youtube#video',\n",
              "  'statistics': {'commentCount': '40',\n",
              "   'dislikeCount': '2',\n",
              "   'favoriteCount': '0',\n",
              "   'likeCount': '393',\n",
              "   'viewCount': '1990'}},\n",
              " {'etag': '4gP5dK2qPwSzUCKORarYOvP_m_A',\n",
              "  'id': 'Whm8S0O31Xg',\n",
              "  'kind': 'youtube#video',\n",
              "  'statistics': {'commentCount': '38',\n",
              "   'dislikeCount': '2',\n",
              "   'favoriteCount': '0',\n",
              "   'likeCount': '469',\n",
              "   'viewCount': '2639'}},\n",
              " {'etag': '31RlGiBRH6TLrPiG4vpDDqti2oM',\n",
              "  'id': 'LlXBiniaF7E',\n",
              "  'kind': 'youtube#video',\n",
              "  'statistics': {'commentCount': '27',\n",
              "   'dislikeCount': '2',\n",
              "   'favoriteCount': '0',\n",
              "   'likeCount': '191',\n",
              "   'viewCount': '1152'}}]"
            ]
          },
          "metadata": {
            "tags": []
          },
          "execution_count": 32
        }
      ]
    },
    {
      "cell_type": "code",
      "metadata": {
        "id": "qoFw0b-idJ8C"
      },
      "source": [
        "videos_title = list(map(lambda x: x['snippet']['title'], playlist_videos))\n",
        "url_thumbnails = list(map(lambda x: x['snippet']['thumbnails']['high']['url'], playlist_videos))\n",
        "published_date = list(map(lambda x: str(x['snippet']['publishedAt']), playlist_videos)) #conversion from ISO8601 date format\n",
        "video_description = list(map(lambda x: x['snippet']['description'], playlist_videos))\n",
        "videoid = list(map(lambda x: x['snippet']['resourceId']['videoId'], playlist_videos))"
      ],
      "execution_count": null,
      "outputs": []
    },
    {
      "cell_type": "code",
      "metadata": {
        "id": "ZzgBefo7eu1R"
      },
      "source": [
        "liked = list(map(lambda x: int(x['statistics']['likeCount']), stats))\n",
        "disliked = list(map(lambda x: int(x['statistics']['dislikeCount']), stats))\n",
        "views = list(map(lambda x: int(x['statistics']['viewCount']), stats))\n",
        "comment = list(map(lambda x: int(x['statistics']['commentCount']), stats))"
      ],
      "execution_count": null,
      "outputs": []
    },
    {
      "cell_type": "code",
      "metadata": {
        "id": "c_Q5r6C-fMIy"
      },
      "source": [
        "from datetime import datetime \n",
        "\n",
        "extraction_date = [str(datetime.now())]*len(videos_ids)"
      ],
      "execution_count": null,
      "outputs": []
    },
    {
      "cell_type": "code",
      "metadata": {
        "id": "44jRoBnmfqK9"
      },
      "source": [
        "import pandas as pd"
      ],
      "execution_count": null,
      "outputs": []
    },
    {
      "cell_type": "code",
      "metadata": {
        "colab": {
          "base_uri": "https://localhost:8080/",
          "height": 501
        },
        "id": "orVTA3hDfukH",
        "outputId": "e58a341c-e159-406b-bfa4-61ca9b8030a9"
      },
      "source": [
        "playlist_df = pd.DataFrame({'title':videos_title,\n",
        "      'video_id':videoid,\n",
        "      'video_description':video_description,\n",
        "      'published_date':published_date,\n",
        "      'extraction_date':extraction_date,\n",
        "      'likes':liked,\n",
        "      'dislikes':disliked,\n",
        "      'views':views,\n",
        "      'comment':comment,\n",
        "      'thumbnail': url_thumbnails})\n",
        "playlist_df.head()"
      ],
      "execution_count": null,
      "outputs": [
        {
          "output_type": "execute_result",
          "data": {
            "text/html": [
              "<div>\n",
              "<style scoped>\n",
              "    .dataframe tbody tr th:only-of-type {\n",
              "        vertical-align: middle;\n",
              "    }\n",
              "\n",
              "    .dataframe tbody tr th {\n",
              "        vertical-align: top;\n",
              "    }\n",
              "\n",
              "    .dataframe thead th {\n",
              "        text-align: right;\n",
              "    }\n",
              "</style>\n",
              "<table border=\"1\" class=\"dataframe\">\n",
              "  <thead>\n",
              "    <tr style=\"text-align: right;\">\n",
              "      <th></th>\n",
              "      <th>title</th>\n",
              "      <th>video_id</th>\n",
              "      <th>video_description</th>\n",
              "      <th>published_date</th>\n",
              "      <th>extraction_date</th>\n",
              "      <th>likes</th>\n",
              "      <th>dislikes</th>\n",
              "      <th>views</th>\n",
              "      <th>comment</th>\n",
              "      <th>thumbnail</th>\n",
              "    </tr>\n",
              "  </thead>\n",
              "  <tbody>\n",
              "    <tr>\n",
              "      <th>0</th>\n",
              "      <td>CONVERTENDO uma coluna de um DataFrame do Pand...</td>\n",
              "      <td>MVd1cs7TDgA</td>\n",
              "      <td>Oi gente, nesse vídeo a Kizzy mostra como faze...</td>\n",
              "      <td>2020-04-04T20:33:33Z</td>\n",
              "      <td>2021-02-17 00:58:05.210204</td>\n",
              "      <td>801</td>\n",
              "      <td>33</td>\n",
              "      <td>13436</td>\n",
              "      <td>138</td>\n",
              "      <td>https://i.ytimg.com/vi/MVd1cs7TDgA/hqdefault.jpg</td>\n",
              "    </tr>\n",
              "    <tr>\n",
              "      <th>1</th>\n",
              "      <td>MODIFICANDO o tamanho das COLUNAS de um DataFr...</td>\n",
              "      <td>nsH6H2gNKgg</td>\n",
              "      <td>Continuando a série de dicas do Pandas, a Kizz...</td>\n",
              "      <td>2020-04-17T01:44:14Z</td>\n",
              "      <td>2021-02-17 00:58:05.210204</td>\n",
              "      <td>808</td>\n",
              "      <td>244</td>\n",
              "      <td>21522</td>\n",
              "      <td>55</td>\n",
              "      <td>https://i.ytimg.com/vi/nsH6H2gNKgg/hqdefault.jpg</td>\n",
              "    </tr>\n",
              "    <tr>\n",
              "      <th>2</th>\n",
              "      <td>ORDENEI o resultado do DataFrame DESCRIBE | Di...</td>\n",
              "      <td>eUc77KqyThc</td>\n",
              "      <td>Mais um vídeo respondendo dúvidas sobre Pandas...</td>\n",
              "      <td>2020-04-25T21:40:02Z</td>\n",
              "      <td>2021-02-17 00:58:05.210204</td>\n",
              "      <td>247</td>\n",
              "      <td>4</td>\n",
              "      <td>1444</td>\n",
              "      <td>36</td>\n",
              "      <td>https://i.ytimg.com/vi/eUc77KqyThc/hqdefault.jpg</td>\n",
              "    </tr>\n",
              "    <tr>\n",
              "      <th>3</th>\n",
              "      <td>Descobri um método que VERIFICA se dois conjun...</td>\n",
              "      <td>a-g36QtGtOg</td>\n",
              "      <td>Nesse vídeo, a Kizzy discute um método pouco c...</td>\n",
              "      <td>2020-05-02T04:04:58Z</td>\n",
              "      <td>2021-02-17 00:58:05.210204</td>\n",
              "      <td>271</td>\n",
              "      <td>0</td>\n",
              "      <td>1508</td>\n",
              "      <td>21</td>\n",
              "      <td>https://i.ytimg.com/vi/a-g36QtGtOg/hqdefault.jpg</td>\n",
              "    </tr>\n",
              "    <tr>\n",
              "      <th>4</th>\n",
              "      <td>MUDEI a COR de um DataFrame do Pandas  *ficou ...</td>\n",
              "      <td>8Yi3T_CeA9E</td>\n",
              "      <td>Mais uma dica de Pandas 🤩Nesse vídeo você vai ...</td>\n",
              "      <td>2020-05-16T05:43:21Z</td>\n",
              "      <td>2021-02-17 00:58:05.210204</td>\n",
              "      <td>370</td>\n",
              "      <td>1</td>\n",
              "      <td>2245</td>\n",
              "      <td>59</td>\n",
              "      <td>https://i.ytimg.com/vi/8Yi3T_CeA9E/hqdefault.jpg</td>\n",
              "    </tr>\n",
              "  </tbody>\n",
              "</table>\n",
              "</div>"
            ],
            "text/plain": [
              "                                               title  ...                                         thumbnail\n",
              "0  CONVERTENDO uma coluna de um DataFrame do Pand...  ...  https://i.ytimg.com/vi/MVd1cs7TDgA/hqdefault.jpg\n",
              "1  MODIFICANDO o tamanho das COLUNAS de um DataFr...  ...  https://i.ytimg.com/vi/nsH6H2gNKgg/hqdefault.jpg\n",
              "2  ORDENEI o resultado do DataFrame DESCRIBE | Di...  ...  https://i.ytimg.com/vi/eUc77KqyThc/hqdefault.jpg\n",
              "3  Descobri um método que VERIFICA se dois conjun...  ...  https://i.ytimg.com/vi/a-g36QtGtOg/hqdefault.jpg\n",
              "4  MUDEI a COR de um DataFrame do Pandas  *ficou ...  ...  https://i.ytimg.com/vi/8Yi3T_CeA9E/hqdefault.jpg\n",
              "\n",
              "[5 rows x 10 columns]"
            ]
          },
          "metadata": {
            "tags": []
          },
          "execution_count": 49
        }
      ]
    },
    {
      "cell_type": "code",
      "metadata": {
        "colab": {
          "base_uri": "https://localhost:8080/"
        },
        "id": "VNeePIGOfvJ8",
        "outputId": "db061dd8-3210-4a56-c51c-e7f94bc9bd86"
      },
      "source": [
        "!pip install --upgrade gspread"
      ],
      "execution_count": null,
      "outputs": [
        {
          "output_type": "stream",
          "text": [
            "Collecting gspread\n",
            "  Downloading https://files.pythonhosted.org/packages/9c/ba/bc8de4f5077bd34bc873bdd67a89cb29c4f181abba8a836d2c6a0a142365/gspread-3.6.0-py3-none-any.whl\n",
            "Requirement already satisfied, skipping upgrade: google-auth-oauthlib>=0.4.1 in /usr/local/lib/python3.6/dist-packages (from gspread) (0.4.2)\n",
            "Requirement already satisfied, skipping upgrade: google-auth>=1.12.0 in /usr/local/lib/python3.6/dist-packages (from gspread) (1.25.0)\n",
            "Requirement already satisfied, skipping upgrade: requests>=2.2.1 in /usr/local/lib/python3.6/dist-packages (from gspread) (2.23.0)\n",
            "Requirement already satisfied, skipping upgrade: requests-oauthlib>=0.7.0 in /usr/local/lib/python3.6/dist-packages (from google-auth-oauthlib>=0.4.1->gspread) (1.3.0)\n",
            "Requirement already satisfied, skipping upgrade: cachetools<5.0,>=2.0.0 in /usr/local/lib/python3.6/dist-packages (from google-auth>=1.12.0->gspread) (4.2.1)\n",
            "Requirement already satisfied, skipping upgrade: rsa<5,>=3.1.4; python_version >= \"3.6\" in /usr/local/lib/python3.6/dist-packages (from google-auth>=1.12.0->gspread) (4.7)\n",
            "Requirement already satisfied, skipping upgrade: setuptools>=40.3.0 in /usr/local/lib/python3.6/dist-packages (from google-auth>=1.12.0->gspread) (53.0.0)\n",
            "Requirement already satisfied, skipping upgrade: pyasn1-modules>=0.2.1 in /usr/local/lib/python3.6/dist-packages (from google-auth>=1.12.0->gspread) (0.2.8)\n",
            "Requirement already satisfied, skipping upgrade: six>=1.9.0 in /usr/local/lib/python3.6/dist-packages (from google-auth>=1.12.0->gspread) (1.15.0)\n",
            "Requirement already satisfied, skipping upgrade: idna<3,>=2.5 in /usr/local/lib/python3.6/dist-packages (from requests>=2.2.1->gspread) (2.10)\n",
            "Requirement already satisfied, skipping upgrade: chardet<4,>=3.0.2 in /usr/local/lib/python3.6/dist-packages (from requests>=2.2.1->gspread) (3.0.4)\n",
            "Requirement already satisfied, skipping upgrade: urllib3!=1.25.0,!=1.25.1,<1.26,>=1.21.1 in /usr/local/lib/python3.6/dist-packages (from requests>=2.2.1->gspread) (1.24.3)\n",
            "Requirement already satisfied, skipping upgrade: certifi>=2017.4.17 in /usr/local/lib/python3.6/dist-packages (from requests>=2.2.1->gspread) (2020.12.5)\n",
            "Requirement already satisfied, skipping upgrade: oauthlib>=3.0.0 in /usr/local/lib/python3.6/dist-packages (from requests-oauthlib>=0.7.0->google-auth-oauthlib>=0.4.1->gspread) (3.1.0)\n",
            "Requirement already satisfied, skipping upgrade: pyasn1>=0.1.3 in /usr/local/lib/python3.6/dist-packages (from rsa<5,>=3.1.4; python_version >= \"3.6\"->google-auth>=1.12.0->gspread) (0.4.8)\n",
            "Installing collected packages: gspread\n",
            "  Found existing installation: gspread 3.0.1\n",
            "    Uninstalling gspread-3.0.1:\n",
            "      Successfully uninstalled gspread-3.0.1\n",
            "Successfully installed gspread-3.6.0\n"
          ],
          "name": "stdout"
        }
      ]
    },
    {
      "cell_type": "code",
      "metadata": {
        "id": "6PimjGqugXiG"
      },
      "source": [
        "from google.colab import auth\n",
        "\n",
        "import gspread\n",
        "from oauth2client.client import GoogleCredentials"
      ],
      "execution_count": null,
      "outputs": []
    },
    {
      "cell_type": "code",
      "metadata": {
        "id": "vOScywF4gZtV"
      },
      "source": [
        "auth.authenticate_user()\n",
        "gc = gspread.authorize(GoogleCredentials.get_application_default())"
      ],
      "execution_count": null,
      "outputs": []
    },
    {
      "cell_type": "code",
      "metadata": {
        "id": "rtXBZEi-gd3c"
      },
      "source": [
        "folderId = '1mpMs1AR0HB99U_I-7uimOT5RvZUUVmNU'\n",
        "spreasheet = gc.create('youtube-data',folder_id=folderId)"
      ],
      "execution_count": null,
      "outputs": []
    },
    {
      "cell_type": "code",
      "metadata": {
        "id": "Bs7RJxhWg_ZR"
      },
      "source": [
        "playlist_sheet = spreasheet.add_worksheet(playlistName,rows=12, cols=11)"
      ],
      "execution_count": null,
      "outputs": []
    },
    {
      "cell_type": "code",
      "metadata": {
        "colab": {
          "base_uri": "https://localhost:8080/"
        },
        "id": "yga_kUjqghfZ",
        "outputId": "e4f98bfa-7c16-4dd7-ba1e-75e026c96830"
      },
      "source": [
        "playlist_sheet.update([playlist_df.columns.values.tolist()] + playlist_df.values.tolist())"
      ],
      "execution_count": null,
      "outputs": [
        {
          "output_type": "execute_result",
          "data": {
            "text/plain": [
              "{'spreadsheetId': '11-OfFVwz4q4auf82xQ99nlsRhICrVFFwNaf2tZYSsDM',\n",
              " 'updatedCells': 130,\n",
              " 'updatedColumns': 10,\n",
              " 'updatedRange': \"'Dicas de Pandas'!A1:J13\",\n",
              " 'updatedRows': 13}"
            ]
          },
          "metadata": {
            "tags": []
          },
          "execution_count": 55
        }
      ]
    },
    {
      "cell_type": "code",
      "metadata": {
        "id": "ypf9BMxwgriF"
      },
      "source": [
        "subscribers_sheet.append_row([str(datetime.now()),int(subscribers_at_extraction)])"
      ],
      "execution_count": null,
      "outputs": []
    }
  ]
}