{
  "nbformat": 4,
  "nbformat_minor": 0,
  "metadata": {
    "colab": {
      "name": "Acessando Google Sheets com Google Colab.ipynb",
      "provenance": [],
      "collapsed_sections": [],
      "authorship_tag": "ABX9TyNkhyF0hHNTpRN+PdYzEQy7",
      "include_colab_link": true
    },
    "kernelspec": {
      "name": "python3",
      "display_name": "Python 3"
    }
  },
  "cells": [
    {
      "cell_type": "markdown",
      "metadata": {
        "id": "view-in-github",
        "colab_type": "text"
      },
      "source": [
        "<a href=\"https://colab.research.google.com/github/programacaodinamica/mini-projetos/blob/master/Acessando_Google_Sheets_com_Google_Colab.ipynb\" target=\"_parent\"><img src=\"https://colab.research.google.com/assets/colab-badge.svg\" alt=\"Open In Colab\"/></a>"
      ]
    },
    {
      "cell_type": "code",
      "metadata": {
        "id": "0AfsK1P2-3Bv",
        "colab_type": "code",
        "colab": {
          "base_uri": "https://localhost:8080/",
          "height": 433
        },
        "outputId": "ee255a57-7109-4040-d2b6-132027bdedaa"
      },
      "source": [
        "!pip install --upgrade gspread"
      ],
      "execution_count": 2,
      "outputs": [
        {
          "output_type": "stream",
          "text": [
            "Collecting gspread\n",
            "  Downloading https://files.pythonhosted.org/packages/9c/ba/bc8de4f5077bd34bc873bdd67a89cb29c4f181abba8a836d2c6a0a142365/gspread-3.6.0-py3-none-any.whl\n",
            "Requirement already satisfied, skipping upgrade: requests>=2.2.1 in /usr/local/lib/python3.6/dist-packages (from gspread) (2.23.0)\n",
            "Requirement already satisfied, skipping upgrade: google-auth>=1.12.0 in /usr/local/lib/python3.6/dist-packages (from gspread) (1.17.2)\n",
            "Requirement already satisfied, skipping upgrade: google-auth-oauthlib>=0.4.1 in /usr/local/lib/python3.6/dist-packages (from gspread) (0.4.1)\n",
            "Requirement already satisfied, skipping upgrade: idna<3,>=2.5 in /usr/local/lib/python3.6/dist-packages (from requests>=2.2.1->gspread) (2.10)\n",
            "Requirement already satisfied, skipping upgrade: certifi>=2017.4.17 in /usr/local/lib/python3.6/dist-packages (from requests>=2.2.1->gspread) (2020.6.20)\n",
            "Requirement already satisfied, skipping upgrade: urllib3!=1.25.0,!=1.25.1,<1.26,>=1.21.1 in /usr/local/lib/python3.6/dist-packages (from requests>=2.2.1->gspread) (1.24.3)\n",
            "Requirement already satisfied, skipping upgrade: chardet<4,>=3.0.2 in /usr/local/lib/python3.6/dist-packages (from requests>=2.2.1->gspread) (3.0.4)\n",
            "Requirement already satisfied, skipping upgrade: rsa<5,>=3.1.4; python_version >= \"3\" in /usr/local/lib/python3.6/dist-packages (from google-auth>=1.12.0->gspread) (4.6)\n",
            "Requirement already satisfied, skipping upgrade: pyasn1-modules>=0.2.1 in /usr/local/lib/python3.6/dist-packages (from google-auth>=1.12.0->gspread) (0.2.8)\n",
            "Requirement already satisfied, skipping upgrade: setuptools>=40.3.0 in /usr/local/lib/python3.6/dist-packages (from google-auth>=1.12.0->gspread) (49.6.0)\n",
            "Requirement already satisfied, skipping upgrade: six>=1.9.0 in /usr/local/lib/python3.6/dist-packages (from google-auth>=1.12.0->gspread) (1.15.0)\n",
            "Requirement already satisfied, skipping upgrade: cachetools<5.0,>=2.0.0 in /usr/local/lib/python3.6/dist-packages (from google-auth>=1.12.0->gspread) (4.1.1)\n",
            "Requirement already satisfied, skipping upgrade: requests-oauthlib>=0.7.0 in /usr/local/lib/python3.6/dist-packages (from google-auth-oauthlib>=0.4.1->gspread) (1.3.0)\n",
            "Requirement already satisfied, skipping upgrade: pyasn1>=0.1.3 in /usr/local/lib/python3.6/dist-packages (from rsa<5,>=3.1.4; python_version >= \"3\"->google-auth>=1.12.0->gspread) (0.4.8)\n",
            "Requirement already satisfied, skipping upgrade: oauthlib>=3.0.0 in /usr/local/lib/python3.6/dist-packages (from requests-oauthlib>=0.7.0->google-auth-oauthlib>=0.4.1->gspread) (3.1.0)\n",
            "Installing collected packages: gspread\n",
            "  Found existing installation: gspread 3.0.1\n",
            "    Uninstalling gspread-3.0.1:\n",
            "      Successfully uninstalled gspread-3.0.1\n",
            "Successfully installed gspread-3.6.0\n"
          ],
          "name": "stdout"
        }
      ]
    },
    {
      "cell_type": "code",
      "metadata": {
        "id": "cnM_5Ox0_G74",
        "colab_type": "code",
        "colab": {}
      },
      "source": [
        "from google.colab import auth\n",
        "auth.authenticate_user()\n",
        "\n",
        "import gspread\n",
        "from oauth2client.client import GoogleCredentials\n",
        "\n",
        "gc = gspread.authorize(GoogleCredentials.get_application_default())"
      ],
      "execution_count": 3,
      "outputs": []
    },
    {
      "cell_type": "code",
      "metadata": {
        "id": "L2i1W2nX_2Cy",
        "colab_type": "code",
        "colab": {}
      },
      "source": [
        "spreasheet = gc.open('municipios')"
      ],
      "execution_count": 4,
      "outputs": []
    },
    {
      "cell_type": "code",
      "metadata": {
        "id": "8b3e4ySTASS6",
        "colab_type": "code",
        "colab": {}
      },
      "source": [
        "page = spreasheet.sheet1"
      ],
      "execution_count": 5,
      "outputs": []
    },
    {
      "cell_type": "code",
      "metadata": {
        "id": "3llzrHOLAu_L",
        "colab_type": "code",
        "colab": {
          "base_uri": "https://localhost:8080/",
          "height": 35
        },
        "outputId": "0ec9cf49-62d3-47c7-b109-e1b7ef4795d7"
      },
      "source": [
        "page.row_values(1)"
      ],
      "execution_count": 7,
      "outputs": [
        {
          "output_type": "execute_result",
          "data": {
            "text/plain": [
              "['codigo_ibge', 'nome', 'latitude', 'longitude', 'capital', 'codigo_uf']"
            ]
          },
          "metadata": {
            "tags": []
          },
          "execution_count": 7
        }
      ]
    },
    {
      "cell_type": "code",
      "metadata": {
        "id": "MTBRBcjWA0dK",
        "colab_type": "code",
        "colab": {
          "base_uri": "https://localhost:8080/",
          "height": 35
        },
        "outputId": "947f26a2-98ca-4316-fb16-295b0e07464d"
      },
      "source": [
        "page.acell('F1').value"
      ],
      "execution_count": 10,
      "outputs": [
        {
          "output_type": "execute_result",
          "data": {
            "application/vnd.google.colaboratory.intrinsic+json": {
              "type": "string"
            },
            "text/plain": [
              "'codigo_uf'"
            ]
          },
          "metadata": {
            "tags": []
          },
          "execution_count": 10
        }
      ]
    },
    {
      "cell_type": "code",
      "metadata": {
        "id": "rpKeY1NYBAIy",
        "colab_type": "code",
        "colab": {
          "base_uri": "https://localhost:8080/",
          "height": 35
        },
        "outputId": "03b2fe71-1813-4102-95bb-330798a721e1"
      },
      "source": [
        "page.cell(2,6).value"
      ],
      "execution_count": 13,
      "outputs": [
        {
          "output_type": "execute_result",
          "data": {
            "application/vnd.google.colaboratory.intrinsic+json": {
              "type": "string"
            },
            "text/plain": [
              "'52'"
            ]
          },
          "metadata": {
            "tags": []
          },
          "execution_count": 13
        }
      ]
    },
    {
      "cell_type": "code",
      "metadata": {
        "id": "Y9nGIgphBHrA",
        "colab_type": "code",
        "colab": {
          "base_uri": "https://localhost:8080/",
          "height": 107
        },
        "outputId": "c6018f9a-281a-46e2-a11e-22faaddfccb2"
      },
      "source": [
        "page.update('G1','')"
      ],
      "execution_count": 15,
      "outputs": [
        {
          "output_type": "execute_result",
          "data": {
            "text/plain": [
              "{'spreadsheetId': '1YmKpt9XBSiz0jGnTywG5thsXEDxCrRSf5d8dtMjNgfE',\n",
              " 'updatedCells': 1,\n",
              " 'updatedColumns': 1,\n",
              " 'updatedRange': 'municipios!G1',\n",
              " 'updatedRows': 1}"
            ]
          },
          "metadata": {
            "tags": []
          },
          "execution_count": 15
        }
      ]
    },
    {
      "cell_type": "code",
      "metadata": {
        "id": "w70iilAEBgW7",
        "colab_type": "code",
        "colab": {}
      },
      "source": [
        "import pandas as pd"
      ],
      "execution_count": 16,
      "outputs": []
    },
    {
      "cell_type": "code",
      "metadata": {
        "id": "nn-YqFFBB2dw",
        "colab_type": "code",
        "colab": {}
      },
      "source": [
        "municipios = pd.DataFrame(page.get_all_records())"
      ],
      "execution_count": 17,
      "outputs": []
    },
    {
      "cell_type": "code",
      "metadata": {
        "id": "Cww-0iCEB8bj",
        "colab_type": "code",
        "colab": {
          "base_uri": "https://localhost:8080/",
          "height": 204
        },
        "outputId": "a42a1deb-23dd-4176-b894-58e8d9262b60"
      },
      "source": [
        "municipios.head()"
      ],
      "execution_count": 20,
      "outputs": [
        {
          "output_type": "execute_result",
          "data": {
            "text/html": [
              "<div>\n",
              "<style scoped>\n",
              "    .dataframe tbody tr th:only-of-type {\n",
              "        vertical-align: middle;\n",
              "    }\n",
              "\n",
              "    .dataframe tbody tr th {\n",
              "        vertical-align: top;\n",
              "    }\n",
              "\n",
              "    .dataframe thead th {\n",
              "        text-align: right;\n",
              "    }\n",
              "</style>\n",
              "<table border=\"1\" class=\"dataframe\">\n",
              "  <thead>\n",
              "    <tr style=\"text-align: right;\">\n",
              "      <th></th>\n",
              "      <th>codigo_ibge</th>\n",
              "      <th>nome</th>\n",
              "      <th>latitude</th>\n",
              "      <th>longitude</th>\n",
              "      <th>capital</th>\n",
              "      <th>codigo_uf</th>\n",
              "    </tr>\n",
              "  </thead>\n",
              "  <tbody>\n",
              "    <tr>\n",
              "      <th>0</th>\n",
              "      <td>5200050</td>\n",
              "      <td>Abadia de Goiás</td>\n",
              "      <td>-167.573</td>\n",
              "      <td>-494.412</td>\n",
              "      <td>0</td>\n",
              "      <td>52</td>\n",
              "    </tr>\n",
              "    <tr>\n",
              "      <th>1</th>\n",
              "      <td>3100104</td>\n",
              "      <td>Abadia dos Dourados</td>\n",
              "      <td>-184.831</td>\n",
              "      <td>-473.916</td>\n",
              "      <td>0</td>\n",
              "      <td>31</td>\n",
              "    </tr>\n",
              "    <tr>\n",
              "      <th>2</th>\n",
              "      <td>5200100</td>\n",
              "      <td>Abadiânia</td>\n",
              "      <td>-16.197</td>\n",
              "      <td>-487.057</td>\n",
              "      <td>0</td>\n",
              "      <td>52</td>\n",
              "    </tr>\n",
              "    <tr>\n",
              "      <th>3</th>\n",
              "      <td>3100203</td>\n",
              "      <td>Abaeté</td>\n",
              "      <td>-191.551</td>\n",
              "      <td>-454.444</td>\n",
              "      <td>0</td>\n",
              "      <td>31</td>\n",
              "    </tr>\n",
              "    <tr>\n",
              "      <th>4</th>\n",
              "      <td>1500107</td>\n",
              "      <td>Abaetetuba</td>\n",
              "      <td>-172.183</td>\n",
              "      <td>-488.788</td>\n",
              "      <td>0</td>\n",
              "      <td>15</td>\n",
              "    </tr>\n",
              "  </tbody>\n",
              "</table>\n",
              "</div>"
            ],
            "text/plain": [
              "   codigo_ibge                 nome  latitude  longitude  capital  codigo_uf\n",
              "0      5200050      Abadia de Goiás  -167.573   -494.412        0         52\n",
              "1      3100104  Abadia dos Dourados  -184.831   -473.916        0         31\n",
              "2      5200100            Abadiânia   -16.197   -487.057        0         52\n",
              "3      3100203               Abaeté  -191.551   -454.444        0         31\n",
              "4      1500107           Abaetetuba  -172.183   -488.788        0         15"
            ]
          },
          "metadata": {
            "tags": []
          },
          "execution_count": 20
        }
      ]
    },
    {
      "cell_type": "code",
      "metadata": {
        "id": "4yGWu_neDY6k",
        "colab_type": "code",
        "colab": {}
      },
      "source": [
        "rondonia = municipios.query('codigo_uf==11')"
      ],
      "execution_count": 29,
      "outputs": []
    },
    {
      "cell_type": "code",
      "metadata": {
        "id": "7KLU3HAlDdRR",
        "colab_type": "code",
        "colab": {
          "base_uri": "https://localhost:8080/",
          "height": 204
        },
        "outputId": "2186d7fc-6226-4232-83b6-30c47068fbd3"
      },
      "source": [
        "rondonia.head()"
      ],
      "execution_count": 31,
      "outputs": [
        {
          "output_type": "execute_result",
          "data": {
            "text/html": [
              "<div>\n",
              "<style scoped>\n",
              "    .dataframe tbody tr th:only-of-type {\n",
              "        vertical-align: middle;\n",
              "    }\n",
              "\n",
              "    .dataframe tbody tr th {\n",
              "        vertical-align: top;\n",
              "    }\n",
              "\n",
              "    .dataframe thead th {\n",
              "        text-align: right;\n",
              "    }\n",
              "</style>\n",
              "<table border=\"1\" class=\"dataframe\">\n",
              "  <thead>\n",
              "    <tr style=\"text-align: right;\">\n",
              "      <th></th>\n",
              "      <th>codigo_ibge</th>\n",
              "      <th>nome</th>\n",
              "      <th>latitude</th>\n",
              "      <th>longitude</th>\n",
              "      <th>capital</th>\n",
              "      <th>codigo_uf</th>\n",
              "    </tr>\n",
              "  </thead>\n",
              "  <tbody>\n",
              "    <tr>\n",
              "      <th>131</th>\n",
              "      <td>1100015</td>\n",
              "      <td>Alta Floresta D'Oeste</td>\n",
              "      <td>-119.283</td>\n",
              "      <td>-619.953</td>\n",
              "      <td>0</td>\n",
              "      <td>11</td>\n",
              "    </tr>\n",
              "    <tr>\n",
              "      <th>145</th>\n",
              "      <td>1100379</td>\n",
              "      <td>Alto Alegre dos Parecis</td>\n",
              "      <td>-12.132</td>\n",
              "      <td>-61.835</td>\n",
              "      <td>0</td>\n",
              "      <td>11</td>\n",
              "    </tr>\n",
              "    <tr>\n",
              "      <th>158</th>\n",
              "      <td>1100403</td>\n",
              "      <td>Alto Paraíso</td>\n",
              "      <td>-971.429</td>\n",
              "      <td>-633.188</td>\n",
              "      <td>0</td>\n",
              "      <td>11</td>\n",
              "    </tr>\n",
              "    <tr>\n",
              "      <th>179</th>\n",
              "      <td>1100346</td>\n",
              "      <td>Alvorada D'Oeste</td>\n",
              "      <td>-113.463</td>\n",
              "      <td>-622.847</td>\n",
              "      <td>0</td>\n",
              "      <td>11</td>\n",
              "    </tr>\n",
              "    <tr>\n",
              "      <th>381</th>\n",
              "      <td>1100023</td>\n",
              "      <td>Ariquemes</td>\n",
              "      <td>-990.571</td>\n",
              "      <td>-630.325</td>\n",
              "      <td>0</td>\n",
              "      <td>11</td>\n",
              "    </tr>\n",
              "  </tbody>\n",
              "</table>\n",
              "</div>"
            ],
            "text/plain": [
              "     codigo_ibge                     nome  ...  capital  codigo_uf\n",
              "131      1100015    Alta Floresta D'Oeste  ...        0         11\n",
              "145      1100379  Alto Alegre dos Parecis  ...        0         11\n",
              "158      1100403             Alto Paraíso  ...        0         11\n",
              "179      1100346         Alvorada D'Oeste  ...        0         11\n",
              "381      1100023                Ariquemes  ...        0         11\n",
              "\n",
              "[5 rows x 6 columns]"
            ]
          },
          "metadata": {
            "tags": []
          },
          "execution_count": 31
        }
      ]
    },
    {
      "cell_type": "code",
      "metadata": {
        "id": "ZtX1Wo0BB-LV",
        "colab_type": "code",
        "colab": {
          "base_uri": "https://localhost:8080/",
          "height": 251
        },
        "outputId": "01327aa0-ae80-445e-c7fa-e2f94b1945e1"
      },
      "source": [
        "rondonia.info()"
      ],
      "execution_count": 30,
      "outputs": [
        {
          "output_type": "stream",
          "text": [
            "<class 'pandas.core.frame.DataFrame'>\n",
            "Int64Index: 52 entries, 131 to 5517\n",
            "Data columns (total 6 columns):\n",
            " #   Column       Non-Null Count  Dtype  \n",
            "---  ------       --------------  -----  \n",
            " 0   codigo_ibge  52 non-null     int64  \n",
            " 1   nome         52 non-null     object \n",
            " 2   latitude     52 non-null     float64\n",
            " 3   longitude    52 non-null     float64\n",
            " 4   capital      52 non-null     int64  \n",
            " 5   codigo_uf    52 non-null     int64  \n",
            "dtypes: float64(2), int64(3), object(1)\n",
            "memory usage: 2.8+ KB\n"
          ],
          "name": "stdout"
        }
      ]
    },
    {
      "cell_type": "code",
      "metadata": {
        "id": "VFEh5avXCfyC",
        "colab_type": "code",
        "colab": {}
      },
      "source": [
        "municipios_rondonia = spreasheet.add_worksheet('Rondônia',rows=52, cols=6)"
      ],
      "execution_count": 28,
      "outputs": []
    },
    {
      "cell_type": "code",
      "metadata": {
        "id": "wRvBd9TtDWCh",
        "colab_type": "code",
        "colab": {
          "base_uri": "https://localhost:8080/",
          "height": 107
        },
        "outputId": "df13f9f0-33bf-4247-8b0c-c5a850604d89"
      },
      "source": [
        "municipios_rondonia.update([rondonia.columns.values.tolist()] + rondonia.values.tolist())"
      ],
      "execution_count": 36,
      "outputs": [
        {
          "output_type": "execute_result",
          "data": {
            "text/plain": [
              "{'spreadsheetId': '1YmKpt9XBSiz0jGnTywG5thsXEDxCrRSf5d8dtMjNgfE',\n",
              " 'updatedCells': 318,\n",
              " 'updatedColumns': 6,\n",
              " 'updatedRange': \"'Rondônia'!A1:F53\",\n",
              " 'updatedRows': 53}"
            ]
          },
          "metadata": {
            "tags": []
          },
          "execution_count": 36
        }
      ]
    },
    {
      "cell_type": "code",
      "metadata": {
        "id": "xXtVNGLUD6o_",
        "colab_type": "code",
        "colab": {
          "base_uri": "https://localhost:8080/",
          "height": 35
        },
        "outputId": "f4d46017-1aeb-4a9b-e913-2f1a3d0db066"
      },
      "source": [
        "rondonia.columns.values.tolist()"
      ],
      "execution_count": 32,
      "outputs": [
        {
          "output_type": "execute_result",
          "data": {
            "text/plain": [
              "['codigo_ibge', 'nome', 'latitude', 'longitude', 'capital', 'codigo_uf']"
            ]
          },
          "metadata": {
            "tags": []
          },
          "execution_count": 32
        }
      ]
    },
    {
      "cell_type": "code",
      "metadata": {
        "id": "srrGPRenD6_O",
        "colab_type": "code",
        "colab": {
          "base_uri": "https://localhost:8080/",
          "height": 953
        },
        "outputId": "c907d753-6872-4899-8366-5de4606a7341"
      },
      "source": [
        "rondonia.values.tolist()"
      ],
      "execution_count": 34,
      "outputs": [
        {
          "output_type": "execute_result",
          "data": {
            "text/plain": [
              "[[1100015, \"Alta Floresta D'Oeste\", -119.283, -619.953, 0, 11],\n",
              " [1100379, 'Alto Alegre dos Parecis', -12.132, -61.835, 0, 11],\n",
              " [1100403, 'Alto Paraíso', -971.429, -633.188, 0, 11],\n",
              " [1100346, \"Alvorada D'Oeste\", -113.463, -622.847, 0, 11],\n",
              " [1100023, 'Ariquemes', -990.571, -630.325, 0, 11],\n",
              " [1100452, 'Buritis', -101.943, -638.324, 0, 11],\n",
              " [1100031, 'Cabixi', -134.945, -60.552, 0, 11],\n",
              " [1100601, 'Cacaulândia', -10.349, -629.043, 0, 11],\n",
              " [1100049, 'Cacoal', -114.343, -614.562, 0, 11],\n",
              " [1100700, 'Campo Novo de Rondônia', -105.712, -636.266, 0, 11],\n",
              " [1100809, 'Candeias do Jamari', -87.907, -637.005, 0, 11],\n",
              " [1100908, 'Castanheiras', -114.253, -619.482, 0, 11],\n",
              " [1100056, 'Cerejeiras', -13.187, -608.168, 0, 11],\n",
              " [1100924, 'Chupinguaia', -125.611, -608.877, 0, 11],\n",
              " [1100064, 'Colorado do Oeste', -131.174, -605.454, 0, 11],\n",
              " [1100072, 'Corumbiara', -129.551, -608.947, 0, 11],\n",
              " [1100080, 'Costa Marques', -124.367, -64.228, 0, 11],\n",
              " [1100940, 'Cujubim', -936.065, -625.846, 0, 11],\n",
              " [1100098, \"Espigão D'Oeste\", -115.266, -610.252, 0, 11],\n",
              " [1101005, 'Governador Jorge Teixeira', -10.61, -627.371, 0, 11],\n",
              " [1100106, 'Guajará-Mirim', -107.889, -653.296, 0, 11],\n",
              " [1101104, 'Itapuã do Oeste', -919.687, -631.809, 0, 11],\n",
              " [1100114, 'Jaru', -104.318, -624.788, 0, 11],\n",
              " [1100122, 'Ji-Paraná', -108.777, -619.322, 0, 11],\n",
              " [1100130, \"Machadinho D'Oeste\", -944.363, -619.818, 0, 11],\n",
              " [1101203, 'Ministro Andreazza', -11.196, -615.174, 0, 11],\n",
              " [1101302, 'Mirante da Serra', -11.029, -626.696, 0, 11],\n",
              " [1101401, 'Monte Negro', -102.458, -63.29, 0, 11],\n",
              " [1100148, \"Nova Brasilândia D'Oeste\", -117.247, -623.127, 0, 11],\n",
              " [1100338, 'Nova Mamoré', -104.077, -653.346, 0, 11],\n",
              " [1101435, 'Nova União', -109.068, -625.564, 0, 11],\n",
              " [1100502, 'Novo Horizonte do Oeste', -116.961, -619.951, 0, 11],\n",
              " [1100155, 'Ouro Preto do Oeste', -107.167, -622.565, 0, 11],\n",
              " [1101450, 'Parecis', -121.754, -616.032, 0, 11],\n",
              " [1100189, 'Pimenta Bueno', -11.672, -61.198, 0, 11],\n",
              " [1101468, 'Pimenteiras do Oeste', -134.823, -610.471, 0, 11],\n",
              " [1100205, 'Porto Velho', -876.077, -638.999, 1, 11],\n",
              " [1100254, 'Presidente Médici', -11.169, -618.986, 0, 11],\n",
              " [1101476, 'Primavera de Rondônia', -118.295, -613.153, 0, 11],\n",
              " [1100262, 'Rio Crespo', -969.965, -629.011, 0, 11],\n",
              " [1100288, 'Rolim de Moura', -117.271, -617.714, 0, 11],\n",
              " [1100296, \"Santa Luzia D'Oeste\", -119.074, -617.777, 0, 11],\n",
              " [1101484, \"São Felipe D'Oeste\", -119.023, -615.026, 0, 11],\n",
              " [1101492, 'São Francisco do Guaporé', -12.052, -63.568, 0, 11],\n",
              " [1100320, 'São Miguel do Guaporé', -116.953, -627.192, 0, 11],\n",
              " [1101500, 'Seringueiras', -118.055, -630.182, 0, 11],\n",
              " [1101559, 'Teixeirópolis', -109.056, -62.242, 0, 11],\n",
              " [1101609, 'Theobroma', -102.483, -623.538, 0, 11],\n",
              " [1101708, 'Urupá', -111.261, -623.639, 0, 11],\n",
              " [1101757, 'Vale do Anari', -986.215, -621.876, 0, 11],\n",
              " [1101807, 'Vale do Paraíso', -104.465, -621.352, 0, 11],\n",
              " [1100304, 'Vilhena', -127.502, -601.488, 0, 11]]"
            ]
          },
          "metadata": {
            "tags": []
          },
          "execution_count": 34
        }
      ]
    },
    {
      "cell_type": "code",
      "metadata": {
        "id": "8cDEJ34ZD-V7",
        "colab_type": "code",
        "colab": {}
      },
      "source": [
        ""
      ],
      "execution_count": null,
      "outputs": []
    }
  ]
}
